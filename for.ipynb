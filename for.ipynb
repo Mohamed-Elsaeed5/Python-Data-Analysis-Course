{
  "nbformat": 4,
  "nbformat_minor": 0,
  "metadata": {
    "colab": {
      "provenance": []
    },
    "kernelspec": {
      "name": "python3",
      "display_name": "Python 3"
    },
    "language_info": {
      "name": "python"
    }
  },
  "cells": [
    {
      "cell_type": "markdown",
      "source": [
        "# Python for Loops - Examples and Usage\n"
      ],
      "metadata": {
        "id": "SzqY3TnyL6aZ"
      }
    },
    {
      "cell_type": "code",
      "execution_count": 1,
      "metadata": {
        "colab": {
          "base_uri": "https://localhost:8080/"
        },
        "id": "6FnJTjDKL16R",
        "outputId": "2aa5a596-7003-449b-dd3e-9f1b5112f9b1"
      },
      "outputs": [
        {
          "output_type": "stream",
          "name": "stdout",
          "text": [
            "Fruit: apple\n",
            "Fruit: banana\n",
            "Fruit: cherry\n"
          ]
        }
      ],
      "source": [
        "# 1. Basic for loop with list\n",
        "fruits = [\"apple\", \"banana\", \"cherry\"]\n",
        "for fruit in fruits:\n",
        "    print(\"Fruit:\", fruit)"
      ]
    },
    {
      "cell_type": "code",
      "source": [
        "# 2. Loop through a string\n",
        "for char in \"hello\":\n",
        "    print(\"Char:\", char)"
      ],
      "metadata": {
        "colab": {
          "base_uri": "https://localhost:8080/"
        },
        "id": "EQ-44hhYMDOA",
        "outputId": "f68d0216-5578-4acd-b489-f6ec243193db"
      },
      "execution_count": 2,
      "outputs": [
        {
          "output_type": "stream",
          "name": "stdout",
          "text": [
            "Char: h\n",
            "Char: e\n",
            "Char: l\n",
            "Char: l\n",
            "Char: o\n"
          ]
        }
      ]
    },
    {
      "cell_type": "code",
      "source": [
        "# 3. Using range()\n",
        "for i in range(5):\n",
        "    print(\"i =\", i)"
      ],
      "metadata": {
        "colab": {
          "base_uri": "https://localhost:8080/"
        },
        "id": "TUMejSh-MEJR",
        "outputId": "5b629f13-aa8e-4a9a-a53c-5512256da4e0"
      },
      "execution_count": 3,
      "outputs": [
        {
          "output_type": "stream",
          "name": "stdout",
          "text": [
            "i = 0\n",
            "i = 1\n",
            "i = 2\n",
            "i = 3\n",
            "i = 4\n"
          ]
        }
      ]
    },
    {
      "cell_type": "code",
      "source": [
        "# 4. range(start, stop, step)\n",
        "for i in range(1, 10, 2):\n",
        "    print(\"Odd number:\", i)"
      ],
      "metadata": {
        "colab": {
          "base_uri": "https://localhost:8080/"
        },
        "id": "_fmCNkwgMMhA",
        "outputId": "b10e4848-c4b7-4feb-cf8c-d4a5368e4f62"
      },
      "execution_count": 4,
      "outputs": [
        {
          "output_type": "stream",
          "name": "stdout",
          "text": [
            "Odd number: 1\n",
            "Odd number: 3\n",
            "Odd number: 5\n",
            "Odd number: 7\n",
            "Odd number: 9\n"
          ]
        }
      ]
    },
    {
      "cell_type": "code",
      "source": [
        "# 5. Loop with else\n",
        "for i in range(3):\n",
        "    print(\"Looping\", i)\n",
        "else:\n",
        "    print(\"Finished loop\")"
      ],
      "metadata": {
        "colab": {
          "base_uri": "https://localhost:8080/"
        },
        "id": "nzhZ4ZFPMEDZ",
        "outputId": "75ae10f1-71dd-4877-ea1f-f2c23d534c22"
      },
      "execution_count": 5,
      "outputs": [
        {
          "output_type": "stream",
          "name": "stdout",
          "text": [
            "Looping 0\n",
            "Looping 1\n",
            "Looping 2\n",
            "Finished loop\n"
          ]
        }
      ]
    },
    {
      "cell_type": "code",
      "source": [
        "# 6. Nested for loops\n",
        "for i in range(2):\n",
        "    for j in range(3):\n",
        "        print(f\"i={i}, j={j}\")"
      ],
      "metadata": {
        "colab": {
          "base_uri": "https://localhost:8080/"
        },
        "id": "VX4LkufOMEAU",
        "outputId": "3eabb44c-02ca-41eb-8879-933f54c9e0c7"
      },
      "execution_count": 6,
      "outputs": [
        {
          "output_type": "stream",
          "name": "stdout",
          "text": [
            "i=0, j=0\n",
            "i=0, j=1\n",
            "i=0, j=2\n",
            "i=1, j=0\n",
            "i=1, j=1\n",
            "i=1, j=2\n"
          ]
        }
      ]
    },
    {
      "cell_type": "code",
      "source": [
        "# 7. Using break in for loop\n",
        "for i in range(5):\n",
        "    if i == 3:\n",
        "        break\n",
        "    print(\"i =\", i)"
      ],
      "metadata": {
        "colab": {
          "base_uri": "https://localhost:8080/"
        },
        "id": "uwnaH2EQMD9Q",
        "outputId": "ce671de9-ee25-4e3b-e187-ad8767b5764f"
      },
      "execution_count": 7,
      "outputs": [
        {
          "output_type": "stream",
          "name": "stdout",
          "text": [
            "i = 0\n",
            "i = 1\n",
            "i = 2\n"
          ]
        }
      ]
    },
    {
      "cell_type": "code",
      "source": [
        "# 8. Using continue in for loop\n",
        "for i in range(5):\n",
        "    if i == 2:\n",
        "        continue\n",
        "    print(\"i =\", i)"
      ],
      "metadata": {
        "colab": {
          "base_uri": "https://localhost:8080/"
        },
        "id": "chLZ0UhAMD6I",
        "outputId": "699e9a46-f262-45ac-d94d-13c4458d770b"
      },
      "execution_count": 8,
      "outputs": [
        {
          "output_type": "stream",
          "name": "stdout",
          "text": [
            "i = 0\n",
            "i = 1\n",
            "i = 3\n",
            "i = 4\n"
          ]
        }
      ]
    },
    {
      "cell_type": "code",
      "source": [
        "# 9. Looping with enumerate()\n",
        "names = [\"Ali\", \"Sara\", \"Omar\"]\n",
        "for index, name in enumerate(names):\n",
        "    print(f\"{index}: {name}\")"
      ],
      "metadata": {
        "colab": {
          "base_uri": "https://localhost:8080/"
        },
        "id": "jRf4FIahNY05",
        "outputId": "93f19f9f-8424-413b-853d-d56c40844354"
      },
      "execution_count": 9,
      "outputs": [
        {
          "output_type": "stream",
          "name": "stdout",
          "text": [
            "0: Ali\n",
            "1: Sara\n",
            "2: Omar\n"
          ]
        }
      ]
    },
    {
      "cell_type": "code",
      "source": [
        "# 10. Looping with zip()\n",
        "ages = [20, 25, 30]\n",
        "for name, age in zip(names, ages):\n",
        "    print(f\"{name} is {age} years old\")"
      ],
      "metadata": {
        "colab": {
          "base_uri": "https://localhost:8080/"
        },
        "id": "kdJWpd0uNZpn",
        "outputId": "3edba6c5-c9cb-4d07-db83-66230699dfb4"
      },
      "execution_count": 10,
      "outputs": [
        {
          "output_type": "stream",
          "name": "stdout",
          "text": [
            "Ali is 20 years old\n",
            "Sara is 25 years old\n",
            "Omar is 30 years old\n"
          ]
        }
      ]
    },
    {
      "cell_type": "code",
      "source": [
        "# 11. for and pass\n",
        "for i in range(10):\n",
        "    pass"
      ],
      "metadata": {
        "id": "fqIftWsZNdTX"
      },
      "execution_count": 12,
      "outputs": []
    }
  ]
}