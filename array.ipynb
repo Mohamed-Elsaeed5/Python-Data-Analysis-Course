{
 "cells": [
  {
   "cell_type": "markdown",
   "id": "4e4a51d5-d1de-4253-934f-fa3fe0640a69",
   "metadata": {},
   "source": [
    "### 🔍 Comparison: Python List vs NumPy Array\n",
    "\n",
    "| Feature                         | Python List                               | NumPy Array                                      |\n",
    "|----------------------------------|--------------------------------------------|--------------------------------------------------|\n",
    "| **Data type flexibility**        | Can store mixed data types                 | Requires same data type (homogeneous)            |\n",
    "| **Memory efficiency**            | Less efficient (each item is an object)    | More memory efficient                            |\n",
    "| **Speed for computation**        | Slower for numeric operations              | Much faster with large data                      |\n",
    "| **Element-wise operations**      | No (use loops or list comprehension)       | Yes (e.g., `array + 1`, `array * 2`)             |\n",
    "| **Broadcasting**                 | Not supported                              | Fully supported                                  |\n",
    "| **Slicing**                      | Supported                                  | Supported                                        |\n",
    "| **Multi-dimensional support**    | Limited (nested lists)                     | Full support for 2D, 3D, etc.                    |\n",
    "| **Mathematical functions**       | No (use `math` module or manual loops)     | Built-in functions like `np.sum()`, `np.mean()` |\n",
    "| **Best use case**                | General-purpose storage                    | Numeric computations and data analysis           |\n"
   ]
  },
  {
   "cell_type": "code",
   "execution_count": 10,
   "id": "57cf20d4-e84a-4740-9d0d-a06895182210",
   "metadata": {},
   "outputs": [
    {
     "name": "stdout",
     "output_type": "stream",
     "text": [
      "1D:\n",
      " [1 2 3] \n",
      "2D:\n",
      " [[1 2]\n",
      " [3 4]] \n",
      "3D:\n",
      " [[[1 2 3]]]\n"
     ]
    }
   ],
   "source": [
    "import numpy as np\n",
    "# 1. Array Creation\n",
    "a1 = np.array([1, 2, 3])                     # 1D array\n",
    "a2 = np.array([[1, 2], [3, 4]])              # 2D array\n",
    "a3 = np.array([1, 2, 3], ndmin=3)            # Create 3D array using ndmin\n",
    "print(\"1D:\\n\", a1, \"\\n2D:\\n\", a2, \"\\n3D:\\n\", a3)"
   ]
  },
  {
   "cell_type": "code",
   "execution_count": 11,
   "id": "a8c6fad4-540d-4d98-b49e-3d6b4236d3b1",
   "metadata": {},
   "outputs": [
    {
     "name": "stdout",
     "output_type": "stream",
     "text": [
      "Shape: (2, 2)\n",
      "Size: 4\n",
      "Data Type: int64\n",
      "Dimensions: 2\n"
     ]
    }
   ],
   "source": [
    "# 2. Array properties\n",
    "print(\"Shape:\", a2.shape)\n",
    "print(\"Size:\", a2.size)\n",
    "print(\"Data Type:\", a2.dtype)\n",
    "print(\"Dimensions:\", a2.ndim)"
   ]
  },
  {
   "cell_type": "code",
   "execution_count": 7,
   "id": "a1c9c3a5-dafe-4492-abb3-29830e9ed4c7",
   "metadata": {},
   "outputs": [
    {
     "name": "stdout",
     "output_type": "stream",
     "text": [
      "Zeros:\n",
      " [[0. 0. 0.]\n",
      " [0. 0. 0.]]\n",
      "Ones:\n",
      " [[1. 1.]\n",
      " [1. 1.]]\n",
      "Range:\n",
      " [0 2 4 6 8]\n",
      "Linspace:\n",
      " [0.   0.25 0.5  0.75 1.  ]\n"
     ]
    }
   ],
   "source": [
    "# 3. Creating arrays with functions\n",
    "print(\"Zeros:\\n\", np.zeros((2, 3)))\n",
    "print(\"Ones:\\n\", np.ones((2, 2)))\n",
    "print(\"Range:\\n\", np.arange(0, 10, 2))\n",
    "print(\"Linspace:\\n\", np.linspace(0, 1, 5))"
   ]
  },
  {
   "cell_type": "code",
   "execution_count": 13,
   "id": "5d9b60c2-aa3a-4196-aeab-b84b925cb6cd",
   "metadata": {},
   "outputs": [
    {
     "name": "stdout",
     "output_type": "stream",
     "text": [
      "Access single element: 60\n",
      "Slice row 0: [10 20 30]\n",
      "Slice column 1: [20 50]\n",
      "Original 2D Array:\n",
      " [[10 20 30]\n",
      " [40 50 60]\n",
      " [70 80 90]]\n",
      "Element at [1,2]: 60\n",
      "Row 0: [10 20 30]\n",
      "Column 1: [20 50 80]\n",
      "Sub-matrix (0:2, 1:3):\n",
      " [[20 30]\n",
      " [50 60]]\n",
      "Last row: [70 80 90]\n",
      "Every 2nd column:\n",
      " [[10 30]\n",
      " [40 60]\n",
      " [70 90]]\n",
      "Top-left 2x2 block:\n",
      " [[10 20]\n",
      " [40 50]]\n"
     ]
    }
   ],
   "source": [
    "# 4.1 Indexing and Slicing\n",
    "arr = np.array([[10, 20, 30], [40, 50, 60]])\n",
    "print(\"Access single element:\", arr[1, 2])\n",
    "print(\"Slice row 0:\", arr[0, :])\n",
    "print(\"Slice column 1:\", arr[:, 1])\n",
    "# 4.2 Indexing and Slicing (Multi-dimensional)\n",
    "arr = np.array([[10, 20, 30], \n",
    "                [40, 50, 60], \n",
    "                [70, 80, 90]])\n",
    "\n",
    "print(\"Original 2D Array:\\n\", arr)\n",
    "\n",
    "# Access single element (row 1, col 2)\n",
    "print(\"Element at [1,2]:\", arr[1, 2])  # Output: 60\n",
    "\n",
    "# Slice entire row 0\n",
    "print(\"Row 0:\", arr[0, :])  # Output: [10 20 30]\n",
    "\n",
    "# Slice entire column 1\n",
    "print(\"Column 1:\", arr[:, 1])  # Output: [20 50 80]\n",
    "\n",
    "# Slice sub-matrix: first 2 rows, last 2 columns\n",
    "print(\"Sub-matrix (0:2, 1:3):\\n\", arr[0:2, 1:3])\n",
    "\n",
    "# Get last row using negative index\n",
    "print(\"Last row:\", arr[-1])  # Output: [70 80 90]\n",
    "\n",
    "# Get every second column\n",
    "print(\"Every 2nd column:\\n\", arr[:, ::2])  # Output: columns 0 and 2\n",
    "\n",
    "# Get a corner 2x2 block\n",
    "print(\"Top-left 2x2 block:\\n\", arr[:2, :2])  # Output: [[10 20], [40 50]]\n"
   ]
  },
  {
   "cell_type": "code",
   "execution_count": 14,
   "id": "42e4bdc7-f365-4a24-86a9-59a33a727fbc",
   "metadata": {},
   "outputs": [
    {
     "name": "stdout",
     "output_type": "stream",
     "text": [
      "Iterating over 2D array:\n",
      "Row: [10 20 30]\n",
      "Row: [40 50 60]\n",
      "Row: [70 80 90]\n",
      "Iterating each element:\n",
      "10 20 30 40 50 60 70 80 90 "
     ]
    }
   ],
   "source": [
    "# 5. Iteration\n",
    "print(\"Iterating over 2D array:\")\n",
    "for row in arr:\n",
    "    print(\"Row:\", row)\n",
    "print(\"Iterating each element:\")\n",
    "for val in np.nditer(arr):\n",
    "    print(val, end=\" \")"
   ]
  },
  {
   "cell_type": "code",
   "execution_count": 16,
   "id": "06946fd4-1108-43b7-9b59-53f9290b0fb1",
   "metadata": {},
   "outputs": [
    {
     "name": "stdout",
     "output_type": "stream",
     "text": [
      "\n",
      "Reshaped to 3x4:\n",
      " [[ 0  1  2  3]\n",
      " [ 4  5  6  7]\n",
      " [ 8  9 10 11]]\n",
      "Flattened: [ 0  1  2  3  4  5  6  7  8  9 10 11]\n",
      "Transposed:\n",
      " [[ 0  4  8]\n",
      " [ 1  5  9]\n",
      " [ 2  6 10]\n",
      " [ 3  7 11]]\n"
     ]
    }
   ],
   "source": [
    "# 6. Reshape, Flatten, Transpose\n",
    "reshaped = np.arange(12).reshape(3, 4)\n",
    "print(\"\\nReshaped to 3x4:\\n\", reshaped)\n",
    "print(\"Flattened:\", reshaped.flatten())\n",
    "print(\"Transposed:\\n\", reshaped.T)"
   ]
  },
  {
   "cell_type": "code",
   "execution_count": 17,
   "id": "a4097190-8527-438f-9603-a23a61fbeafd",
   "metadata": {},
   "outputs": [
    {
     "name": "stdout",
     "output_type": "stream",
     "text": [
      "Add 5:\n",
      " [[ 5  6  7  8]\n",
      " [ 9 10 11 12]\n",
      " [13 14 15 16]]\n",
      "Multiply:\n",
      " [[ 0  2  4  6]\n",
      " [ 8 10 12 14]\n",
      " [16 18 20 22]]\n",
      "Dot Product:\n",
      " 11\n"
     ]
    }
   ],
   "source": [
    "# 7. Mathematical operations\n",
    "print(\"Add 5:\\n\", reshaped + 5)\n",
    "print(\"Multiply:\\n\", reshaped * 2)\n",
    "print(\"Dot Product:\\n\", np.dot([1, 2], [3, 4]))"
   ]
  },
  {
   "cell_type": "code",
   "execution_count": 18,
   "id": "a23ff630-1a4d-46ec-9572-e0502f94cc02",
   "metadata": {},
   "outputs": [
    {
     "name": "stdout",
     "output_type": "stream",
     "text": [
      "Sum: 66\n",
      "Mean: 5.5\n",
      "Max: 11\n",
      "Std Dev: 3.452052529534663\n"
     ]
    }
   ],
   "source": [
    "# 8. Aggregation\n",
    "print(\"Sum:\", reshaped.sum())\n",
    "print(\"Mean:\", reshaped.mean())\n",
    "print(\"Max:\", reshaped.max())\n",
    "print(\"Std Dev:\", reshaped.std())"
   ]
  },
  {
   "cell_type": "code",
   "execution_count": 19,
   "id": "91178b41-3ef6-4748-8c63-e15bd8b0b976",
   "metadata": {},
   "outputs": [
    {
     "name": "stdout",
     "output_type": "stream",
     "text": [
      "Elements > 5:\n",
      " [ 6  7  8  9 10 11]\n"
     ]
    }
   ],
   "source": [
    "# 9. Filtering with conditions\n",
    "print(\"Elements > 5:\\n\", reshaped[reshaped > 5])"
   ]
  },
  {
   "cell_type": "code",
   "execution_count": 20,
   "id": "c2517841-cae0-42b8-b889-8e7aa2d95e6a",
   "metadata": {},
   "outputs": [
    {
     "name": "stdout",
     "output_type": "stream",
     "text": [
      "Vertical Stack:\n",
      " [[1 2]\n",
      " [3 4]\n",
      " [5 6]]\n",
      "Horizontal Stack:\n",
      " [[1 2 1 2]\n",
      " [3 4 3 4]]\n"
     ]
    }
   ],
   "source": [
    "# 10. Stacking and Concatenation\n",
    "a = np.array([[1, 2], [3, 4]])\n",
    "b = np.array([[5, 6]])\n",
    "print(\"Vertical Stack:\\n\", np.vstack((a, b)))\n",
    "print(\"Horizontal Stack:\\n\", np.hstack((a, a)))"
   ]
  },
  {
   "cell_type": "code",
   "execution_count": 21,
   "id": "3188addb-9335-4be8-b540-3fb6ef45175f",
   "metadata": {},
   "outputs": [
    {
     "name": "stdout",
     "output_type": "stream",
     "text": [
      "Concat along axis 0:\n",
      " [[1 2]\n",
      " [3 4]]\n",
      "Concat along axis 1:\n",
      " [[1 3]\n",
      " [2 4]]\n"
     ]
    }
   ],
   "source": [
    "# 11. Concatenation\n",
    "x = np.array([[1, 2]])\n",
    "y = np.array([[3, 4]])\n",
    "print(\"Concat along axis 0:\\n\", np.concatenate((x, y), axis=0))\n",
    "print(\"Concat along axis 1:\\n\", np.concatenate((x.T, y.T), axis=1))"
   ]
  },
  {
   "cell_type": "code",
   "execution_count": 22,
   "id": "f23dc04c-aff9-4cfa-bfd2-be0d96be748e",
   "metadata": {},
   "outputs": [
    {
     "name": "stdout",
     "output_type": "stream",
     "text": [
      "Original: [100   2   3]\n",
      "Copy (unchanged): [1 2 3]\n",
      "View (linked): [100   2   3]\n"
     ]
    }
   ],
   "source": [
    "# 12. Copy vs View\n",
    "original = np.array([1, 2, 3])\n",
    "copy = original.copy()\n",
    "view = original.view()\n",
    "original[0] = 100\n",
    "print(\"Original:\", original)\n",
    "print(\"Copy (unchanged):\", copy)\n",
    "print(\"View (linked):\", view)"
   ]
  },
  {
   "cell_type": "code",
   "execution_count": 23,
   "id": "1209749f-0638-462d-887b-1948ed5d0e4a",
   "metadata": {},
   "outputs": [
    {
     "name": "stdout",
     "output_type": "stream",
     "text": [
      "Broadcasting:\n",
      " [[11 21 31]\n",
      " [12 22 32]\n",
      " [13 23 33]]\n"
     ]
    }
   ],
   "source": [
    "# 13. Broadcasting\n",
    "X = np.array([[1], [2], [3]])\n",
    "Y = np.array([10, 20, 30])\n",
    "print(\"Broadcasting:\\n\", X + Y)"
   ]
  }
 ],
 "metadata": {
  "kernelspec": {
   "display_name": "Python 3 (ipykernel)",
   "language": "python",
   "name": "python3"
  },
  "language_info": {
   "codemirror_mode": {
    "name": "ipython",
    "version": 3
   },
   "file_extension": ".py",
   "mimetype": "text/x-python",
   "name": "python",
   "nbconvert_exporter": "python",
   "pygments_lexer": "ipython3",
   "version": "3.12.5"
  }
 },
 "nbformat": 4,
 "nbformat_minor": 5
}
