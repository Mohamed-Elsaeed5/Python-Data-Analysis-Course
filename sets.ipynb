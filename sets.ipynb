{
  "nbformat": 4,
  "nbformat_minor": 0,
  "metadata": {
    "colab": {
      "provenance": []
    },
    "kernelspec": {
      "name": "python3",
      "display_name": "Python 3"
    },
    "language_info": {
      "name": "python"
    }
  },
  "cells": [
    {
      "cell_type": "markdown",
      "source": [
        "# Python Sets - Creation, Operations, Methods\n"
      ],
      "metadata": {
        "id": "EVeLc8PcJDCe"
      }
    },
    {
      "cell_type": "code",
      "execution_count": null,
      "metadata": {
        "id": "ptxhv5kFI-tm"
      },
      "outputs": [],
      "source": [
        "# 1. Creating a set (unordered, unique values)\n",
        "fruits = {\"apple\", \"banana\", \"mango\", \"apple\"}\n",
        "print(\"Fruits set:\", fruits)  # duplicate \"apple\" is removed"
      ]
    },
    {
      "cell_type": "code",
      "source": [
        "# 2. Add elements\n",
        "fruits.add(\"orange\")\n",
        "print(\"After add:\", fruits)"
      ],
      "metadata": {
        "id": "GS3otmGBJO1r"
      },
      "execution_count": null,
      "outputs": []
    },
    {
      "cell_type": "code",
      "source": [
        "# 3. Remove elements\n",
        "fruits.remove(\"banana\")  # error if not found\n",
        "print(\"After remove:\", fruits)\n",
        "\n",
        "fruits.discard(\"banana\")  # safe remove (no error if not found)\n",
        "print(\"After discard:\", fruits)"
      ],
      "metadata": {
        "id": "-1P0obcOJSjT"
      },
      "execution_count": null,
      "outputs": []
    },
    {
      "cell_type": "code",
      "source": [
        "# 4. Set operations\n",
        "a = {1, 2, 3}\n",
        "b = {3, 4, 5}\n",
        "\n",
        "print(\"Union (a | b):\", a | b)\n",
        "print(\"Intersection (a & b):\", a & b)\n",
        "print(\"Difference (a - b):\", a - b)\n",
        "print(\"Symmetric Difference (a ^ b):\", a ^ b)"
      ],
      "metadata": {
        "id": "TKhcyrr5JTF2"
      },
      "execution_count": null,
      "outputs": []
    },
    {
      "cell_type": "code",
      "source": [
        "# 5. Membership test\n",
        "print(\"Is 2 in a?\", 2 in a)"
      ],
      "metadata": {
        "id": "OQ741gT4JTDZ"
      },
      "execution_count": null,
      "outputs": []
    },
    {
      "cell_type": "code",
      "source": [
        "# 6. Loop through set\n",
        "for item in fruits:\n",
        "    print(\"Fruit:\", item)"
      ],
      "metadata": {
        "id": "_63kCo2SJTA4"
      },
      "execution_count": null,
      "outputs": []
    },
    {
      "cell_type": "code",
      "source": [
        "# 7. Set length\n",
        "print(\"Length:\", len(fruits))"
      ],
      "metadata": {
        "id": "28C0Tf2PJS-k"
      },
      "execution_count": null,
      "outputs": []
    },
    {
      "cell_type": "code",
      "source": [
        "# 8. Copying a set\n",
        "new_set = a.copy()\n",
        "print(\"Copied set:\", new_set)"
      ],
      "metadata": {
        "id": "gcVBzCtUJS7z"
      },
      "execution_count": null,
      "outputs": []
    },
    {
      "cell_type": "code",
      "source": [
        "# 9. Clearing a set\n",
        "new_set.clear()\n",
        "print(\"After clear:\", new_set)"
      ],
      "metadata": {
        "id": "0HYGAts5JS5a"
      },
      "execution_count": null,
      "outputs": []
    },
    {
      "cell_type": "code",
      "source": [
        "# 10. Set from list (to remove duplicates)\n",
        "nums = [1, 2, 2, 3, 3, 3]\n",
        "unique_nums = set(nums)\n",
        "print(\"Unique numbers:\", unique_nums)"
      ],
      "metadata": {
        "id": "D5r-iL91JaYV"
      },
      "execution_count": null,
      "outputs": []
    },
    {
      "cell_type": "code",
      "source": [],
      "metadata": {
        "id": "YbNNwg11JeIm"
      },
      "execution_count": null,
      "outputs": []
    }
  ]
}