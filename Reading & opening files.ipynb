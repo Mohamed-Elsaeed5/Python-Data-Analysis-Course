{
 "cells": [
  {
   "cell_type": "markdown",
   "id": "b913811c-109e-46b6-9edd-85d00136f072",
   "metadata": {},
   "source": [
    "# Reading and Writing Files in Python"
   ]
  },
  {
   "cell_type": "code",
   "execution_count": 9,
   "id": "2ba585d8-b36c-40de-9f04-e8868576206f",
   "metadata": {},
   "outputs": [],
   "source": [
    "# 1. Writing text to a file\n",
    "with open(\"example.txt\", \"w\") as f:\n",
    "    f.write(\"Hello, world!\\n\")\n",
    "    f.write(\"Welcome to file handling in Python.\\n\")"
   ]
  },
  {
   "cell_type": "code",
   "execution_count": 10,
   "id": "e5e345a8-7459-46e2-a06b-10f8ee54accf",
   "metadata": {},
   "outputs": [],
   "source": [
    "# 2. Appending to a file\n",
    "with open(\"example.txt\", \"a\") as f:\n",
    "    f.write(\"This line is added later.\\n\")"
   ]
  },
  {
   "cell_type": "code",
   "execution_count": 11,
   "id": "e82f21f1-8386-4fbb-84bf-fa88713fc998",
   "metadata": {},
   "outputs": [
    {
     "name": "stdout",
     "output_type": "stream",
     "text": [
      "Full file content:\n",
      " Hello, world!\n",
      "Welcome to file handling in Python.\n",
      "This line is added later.\n",
      "\n"
     ]
    }
   ],
   "source": [
    "# 3. Reading the whole file content\n",
    "with open(\"example.txt\", \"r\") as f:\n",
    "    content = f.read()\n",
    "    print(\"Full file content:\\n\", content)"
   ]
  },
  {
   "cell_type": "code",
   "execution_count": 12,
   "id": "885ea29c-8b36-4472-9c44-e39860ab7e8d",
   "metadata": {},
   "outputs": [
    {
     "name": "stdout",
     "output_type": "stream",
     "text": [
      "Reading line by line:\n",
      "Hello, world!\n",
      "Welcome to file handling in Python.\n",
      "This line is added later.\n"
     ]
    }
   ],
   "source": [
    "# 4. Reading line by line\n",
    "with open(\"example.txt\", \"r\") as f:\n",
    "    lines = f.readlines()\n",
    "    print(\"Reading line by line:\")\n",
    "    for line in lines:\n",
    "        print(line.strip())"
   ]
  },
  {
   "cell_type": "code",
   "execution_count": 13,
   "id": "2e2bc4ed-bbdf-4829-bc51-30d9f71aa3ab",
   "metadata": {},
   "outputs": [
    {
     "name": "stdout",
     "output_type": "stream",
     "text": [
      "\n",
      "Data read from CSV:\n",
      "    Name  Score\n",
      "0   Ali     85\n",
      "1  Sara     90\n",
      "2  Omar     78\n"
     ]
    }
   ],
   "source": [
    "# 5. Using 'with' ensures the file is closed automatically\n",
    "\n",
    "# 6. Writing and reading CSV using pandas\n",
    "import pandas as pd\n",
    "\n",
    "# Create a DataFrame\n",
    "df = pd.DataFrame({\n",
    "    \"Name\": [\"Ali\", \"Sara\", \"Omar\"],\n",
    "    \"Score\": [85, 90, 78]\n",
    "})\n",
    "\n",
    "# Write DataFrame to CSV\n",
    "df.to_csv(\"students.csv\", index=False)\n",
    "\n",
    "# Read DataFrame from CSV\n",
    "df_loaded = pd.read_csv(\"students.csv\")\n",
    "print(\"\\nData read from CSV:\\n\", df_loaded)"
   ]
  }
 ],
 "metadata": {
  "kernelspec": {
   "display_name": "Python 3 (ipykernel)",
   "language": "python",
   "name": "python3"
  },
  "language_info": {
   "codemirror_mode": {
    "name": "ipython",
    "version": 3
   },
   "file_extension": ".py",
   "mimetype": "text/x-python",
   "name": "python",
   "nbconvert_exporter": "python",
   "pygments_lexer": "ipython3",
   "version": "3.12.5"
  }
 },
 "nbformat": 4,
 "nbformat_minor": 5
}
