{
 "cells": [
  {
   "cell_type": "markdown",
   "metadata": {
    "id": "yGwPmCKB5jrC"
   },
   "source": [
    "# Variables"
   ]
  },
  {
   "cell_type": "code",
   "execution_count": 1,
   "metadata": {
    "id": "n5GnZT4M5dGn"
   },
   "outputs": [],
   "source": [
    "# Python Variables - Declaration, Naming Rules, and Examples\n",
    "\n",
    "# 1. Variable Declaration and Assignment\n",
    "x = 5\n",
    "name = \"Alice\"\n",
    "price = 19.99\n",
    "is_valid = True"
   ]
  },
  {
   "cell_type": "code",
   "execution_count": 2,
   "metadata": {
    "colab": {
     "base_uri": "https://localhost:8080/"
    },
    "id": "x8HP8aij5qrE",
    "outputId": "10450c28-51d5-4ae4-9a14-616c81bff370"
   },
   "outputs": [
    {
     "name": "stdout",
     "output_type": "stream",
     "text": [
      "x = 5 | type: <class 'int'>\n",
      "name = Alice | type: <class 'str'>\n",
      "price = 19.99 | type: <class 'float'>\n",
      "is_valid = True | type: <class 'bool'>\n"
     ]
    }
   ],
   "source": [
    "# 2. Print values and types\n",
    "print(\"x =\", x, \"| type:\", type(x))\n",
    "print(\"name =\", name, \"| type:\", type(name))\n",
    "print(\"price =\", price, \"| type:\", type(price))\n",
    "print(\"is_valid =\", is_valid, \"| type:\", type(is_valid))"
   ]
  },
  {
   "cell_type": "code",
   "execution_count": 3,
   "metadata": {
    "colab": {
     "base_uri": "https://localhost:8080/"
    },
    "id": "wNS2NeH95qom",
    "outputId": "9415c232-9dc0-4f7c-b00b-2620c2ab1063"
   },
   "outputs": [
    {
     "name": "stdout",
     "output_type": "stream",
     "text": [
      "a: 1 b: 2 c: 3\n"
     ]
    }
   ],
   "source": [
    "# 3. Multiple Assignment\n",
    "a, b, c = 1, 2, 3\n",
    "print(\"a:\", a, \"b:\", b, \"c:\", c)"
   ]
  },
  {
   "cell_type": "code",
   "execution_count": 4,
   "metadata": {
    "colab": {
     "base_uri": "https://localhost:8080/"
    },
    "id": "p172LRH85qmF",
    "outputId": "a5661dd7-30cd-4fbf-dbbb-d05b14b4035f"
   },
   "outputs": [
    {
     "name": "stdout",
     "output_type": "stream",
     "text": [
      "x: 100 y: 100 z: 100\n"
     ]
    }
   ],
   "source": [
    "# 4. Same value to multiple variables\n",
    "x = y = z = 100\n",
    "print(\"x:\", x, \"y:\", y, \"z:\", z)"
   ]
  },
  {
   "cell_type": "code",
   "execution_count": 7,
   "metadata": {
    "id": "3qHFrUjA5qjy"
   },
   "outputs": [],
   "source": [
    "# 5. Variable Naming Rules (examples)\n",
    "snake_case = \"valid\"\n",
    "CamelCase = \"valid\"\n",
    "_number = 5           # valid\n",
    "# 1number = 5         # ❌ Invalid: starts with digit\n",
    "# class = 10         # ❌ Invalid: \"class\" is a reserved word\n",
    "# my name = 10         # ❌ Invalid: \"class\" is space"
   ]
  },
  {
   "cell_type": "code",
   "execution_count": 8,
   "metadata": {
    "colab": {
     "base_uri": "https://localhost:8080/"
    },
    "id": "eckj3PvX5qhR",
    "outputId": "1a843ac1-8086-41f5-b44a-ae4f4a8bf58f"
   },
   "outputs": [
    {
     "name": "stdout",
     "output_type": "stream",
     "text": [
      "var: 10\n",
      "Var: 20\n"
     ]
    }
   ],
   "source": [
    "# 6. Case Sensitivity\n",
    "var = 10\n",
    "Var = 20\n",
    "print(\"var:\", var)\n",
    "print(\"Var:\", Var)  # Different variables"
   ]
  },
  {
   "cell_type": "code",
   "execution_count": 11,
   "metadata": {
    "colab": {
     "base_uri": "https://localhost:8080/"
    },
    "id": "I15kEoP85qex",
    "outputId": "174d9015-3033-448e-fa21-7ec44077c6ae"
   },
   "outputs": [
    {
     "name": "stdout",
     "output_type": "stream",
     "text": [
      "Initial score: 80\n",
      "Updated score: 90\n"
     ]
    }
   ],
   "source": [
    "# 7. Reassigning variables\n",
    "score = 80\n",
    "print(\"Initial score:\", score)\n",
    "score = score + 10\n",
    "print(\"Updated score:\", score)"
   ]
  },
  {
   "cell_type": "code",
   "execution_count": 12,
   "metadata": {
    "colab": {
     "base_uri": "https://localhost:8080/"
    },
    "id": "HCXXHDct-bUN",
    "outputId": "0d56527e-e7a8-4a16-e455-d3e81979bbc5"
   },
   "outputs": [
    {
     "name": "stdout",
     "output_type": "stream",
     "text": [
      "Before swap: 10 20\n",
      "After swap: 20 10\n"
     ]
    }
   ],
   "source": [
    "# Advanced Variable Usage in Python\n",
    "\n",
    "# 1. Swapping values (no temp variable needed)\n",
    "a, b = 10, 20\n",
    "print(\"Before swap:\", a, b)\n",
    "a, b = b, a\n",
    "print(\"After swap:\", a, b)"
   ]
  },
  {
   "cell_type": "code",
   "execution_count": 13,
   "metadata": {
    "colab": {
     "base_uri": "https://localhost:8080/"
    },
    "id": "VYdSPnId-fDF",
    "outputId": "47c62925-0572-4403-dbb5-946e25666a17"
   },
   "outputs": [
    {
     "name": "stdout",
     "output_type": "stream",
     "text": [
      "Name: Ahmed | Age: 25 | Job: Engineer\n"
     ]
    }
   ],
   "source": [
    "# 2. Unpacking lists/tuples\n",
    "data = [\"Ahmed\", 25, \"Engineer\"]\n",
    "name, age, job = data\n",
    "print(\"Name:\", name, \"| Age:\", age, \"| Job:\", job)"
   ]
  },
  {
   "cell_type": "code",
   "execution_count": 15,
   "metadata": {
    "colab": {
     "base_uri": "https://localhost:8080/"
    },
    "id": "3WFdXkf7-g3t",
    "outputId": "b173ec3e-ba53-4357-ab8c-2c4fc367884c"
   },
   "outputs": [
    {
     "name": "stdout",
     "output_type": "stream",
     "text": [
      "First: 1 | Middle: [2, 3, 4] | Last: 5\n"
     ]
    }
   ],
   "source": [
    "# 3. Using * to unpack remaining items\n",
    "numbers = [1, 2, 3, 4, 5]\n",
    "first, *middle, last = numbers\n",
    "print(\"First:\", first, \"| Middle:\", middle, \"| Last:\", last)"
   ]
  },
  {
   "cell_type": "code",
   "execution_count": 1,
   "metadata": {},
   "outputs": [
    {
     "name": "stdout",
     "output_type": "stream",
     "text": [
      "x = 5\n"
     ]
    }
   ],
   "source": [
    "# Python Comments - Single-line and Multi-line\n",
    "\n",
    "# 1. Single-line comment\n",
    "# This is a comment and will not run\n",
    "x = 5  # You can also add a comment after code\n",
    "print(\"x =\", x)  # This prints the value of x"
   ]
  },
  {
   "cell_type": "code",
   "execution_count": 2,
   "metadata": {},
   "outputs": [
    {
     "data": {
      "text/plain": [
       "'\\nYou can also use triple single quotes\\nfor multi-line comments or docstrings.\\n'"
      ]
     },
     "execution_count": 2,
     "metadata": {},
     "output_type": "execute_result"
    }
   ],
   "source": [
    "# 2. Multi-line comment using triple quotes (not real comment, just string ignored if not used)\n",
    "\"\"\"\n",
    "This is a multi-line comment style\n",
    "using triple double quotes.\n",
    "It's often used for documentation or temporary notes.\n",
    "\"\"\"\n",
    "\n",
    "'''\n",
    "You can also use triple single quotes\n",
    "for multi-line comments or docstrings.\n",
    "'''"
   ]
  },
  {
   "cell_type": "code",
   "execution_count": null,
   "metadata": {},
   "outputs": [],
   "source": []
  }
 ],
 "metadata": {
  "colab": {
   "provenance": []
  },
  "kernelspec": {
   "display_name": "Python 3 (ipykernel)",
   "language": "python",
   "name": "python3"
  },
  "language_info": {
   "codemirror_mode": {
    "name": "ipython",
    "version": 3
   },
   "file_extension": ".py",
   "mimetype": "text/x-python",
   "name": "python",
   "nbconvert_exporter": "python",
   "pygments_lexer": "ipython3",
   "version": "3.12.5"
  }
 },
 "nbformat": 4,
 "nbformat_minor": 4
}
