{
  "nbformat": 4,
  "nbformat_minor": 0,
  "metadata": {
    "colab": {
      "provenance": []
    },
    "kernelspec": {
      "name": "python3",
      "display_name": "Python 3"
    },
    "language_info": {
      "name": "python"
    }
  },
  "cells": [
    {
      "cell_type": "code",
      "execution_count": 1,
      "metadata": {
        "colab": {
          "base_uri": "https://localhost:8080/"
        },
        "id": "OVb-hou8GvOy",
        "outputId": "bf943399-a411-4541-d898-bee4ec2ea9b3"
      },
      "outputs": [
        {
          "output_type": "stream",
          "name": "stdout",
          "text": [
            "Person: {'name': 'Ali', 'age': 30, 'city': 'Cairo'}\n"
          ]
        }
      ],
      "source": [
        "# Python Dictionary (dict) - Create, Access, Update, Methods\n",
        "\n",
        "# 1. Creating a dictionary\n",
        "person = {\"name\": \"Ali\", \"age\": 30, \"city\": \"Cairo\"}\n",
        "print(\"Person:\", person)"
      ]
    },
    {
      "cell_type": "code",
      "source": [
        "# 2. Accessing values\n",
        "print(\"Name:\", person[\"name\"])\n",
        "print(\"City:\", person.get(\"city\"))  # safer, no error if key not found"
      ],
      "metadata": {
        "colab": {
          "base_uri": "https://localhost:8080/"
        },
        "id": "ov8wsHY4G-wA",
        "outputId": "60c4302c-76a7-4e23-f3f3-bcee043cac45"
      },
      "execution_count": 2,
      "outputs": [
        {
          "output_type": "stream",
          "name": "stdout",
          "text": [
            "Name: Ali\n",
            "City: Cairo\n"
          ]
        }
      ]
    },
    {
      "cell_type": "code",
      "source": [
        "# 3. Adding or updating values\n",
        "person[\"age\"] = 31        # update\n",
        "person[\"job\"] = \"Engineer\"  # add new\n",
        "print(\"Updated person:\", person)"
      ],
      "metadata": {
        "colab": {
          "base_uri": "https://localhost:8080/"
        },
        "id": "OkiW47ttHAfm",
        "outputId": "81c6009b-c071-4cd3-f006-b1a77afe8539"
      },
      "execution_count": 3,
      "outputs": [
        {
          "output_type": "stream",
          "name": "stdout",
          "text": [
            "Updated person: {'name': 'Ali', 'age': 31, 'city': 'Cairo', 'job': 'Engineer'}\n"
          ]
        }
      ]
    },
    {
      "cell_type": "code",
      "source": [
        "# 4. Removing items\n",
        "person.pop(\"city\")\n",
        "print(\"After pop:\", person)\n",
        "\n",
        "del person[\"job\"]\n",
        "print(\"After del:\", person)"
      ],
      "metadata": {
        "id": "c_EAL6k9HBwd"
      },
      "execution_count": null,
      "outputs": []
    },
    {
      "cell_type": "code",
      "source": [
        "# 5. Dictionary length\n",
        "print(\"Number of items:\", len(person))"
      ],
      "metadata": {
        "id": "ZrEcerQ3HCfo"
      },
      "execution_count": null,
      "outputs": []
    },
    {
      "cell_type": "code",
      "source": [
        "# 6. Loop through dictionary\n",
        "for key, value in person.items():\n",
        "    print(f\"{key} → {value}\")"
      ],
      "metadata": {
        "colab": {
          "base_uri": "https://localhost:8080/"
        },
        "id": "mko1dzk2HCbp",
        "outputId": "018294f6-162b-462a-b45d-c2d98097dd65"
      },
      "execution_count": 4,
      "outputs": [
        {
          "output_type": "stream",
          "name": "stdout",
          "text": [
            "name → Ali\n",
            "age → 31\n",
            "city → Cairo\n",
            "job → Engineer\n"
          ]
        }
      ]
    },
    {
      "cell_type": "code",
      "source": [
        "# 7. Keys, Values, Items\n",
        "print(\"Keys:\", person.keys())\n",
        "print(\"Values:\", person.values())\n",
        "print(\"Items:\", person.items())"
      ],
      "metadata": {
        "colab": {
          "base_uri": "https://localhost:8080/"
        },
        "id": "ucolqNs9HCY1",
        "outputId": "3acaf3ae-fb19-4077-c1cf-e0b7d7d9d5e5"
      },
      "execution_count": 5,
      "outputs": [
        {
          "output_type": "stream",
          "name": "stdout",
          "text": [
            "Keys: dict_keys(['name', 'age', 'city', 'job'])\n",
            "Values: dict_values(['Ali', 31, 'Cairo', 'Engineer'])\n",
            "Items: dict_items([('name', 'Ali'), ('age', 31), ('city', 'Cairo'), ('job', 'Engineer')])\n"
          ]
        }
      ]
    },
    {
      "cell_type": "code",
      "source": [
        "# 8. Nested dictionary\n",
        "student = {\n",
        "    \"name\": \"Sara\",\n",
        "    \"grades\": {\"math\": 90, \"science\": 85}\n",
        "}\n",
        "print(\"Math grade:\", student[\"grades\"][\"math\"])"
      ],
      "metadata": {
        "colab": {
          "base_uri": "https://localhost:8080/"
        },
        "id": "0GgqimeqHCWJ",
        "outputId": "2cef3ca5-16f8-4dbf-adfe-5eba62ab3345"
      },
      "execution_count": 6,
      "outputs": [
        {
          "output_type": "stream",
          "name": "stdout",
          "text": [
            "Math grade: 90\n"
          ]
        }
      ]
    },
    {
      "cell_type": "code",
      "source": [
        "# 9. Copying dictionary\n",
        "copy_dict = person.copy()\n",
        "print(\"Copied dict:\", copy_dict)"
      ],
      "metadata": {
        "colab": {
          "base_uri": "https://localhost:8080/"
        },
        "id": "GlA3w7UFHCT3",
        "outputId": "b2f007f1-58f8-4b67-fdf8-edb0e2edabc9"
      },
      "execution_count": 7,
      "outputs": [
        {
          "output_type": "stream",
          "name": "stdout",
          "text": [
            "Copied dict: {'name': 'Ali', 'age': 31, 'city': 'Cairo', 'job': 'Engineer'}\n"
          ]
        }
      ]
    },
    {
      "cell_type": "code",
      "source": [
        "# 10. Clear dictionary\n",
        "copy_dict.clear()\n",
        "print(\"After clear:\", copy_dict)"
      ],
      "metadata": {
        "colab": {
          "base_uri": "https://localhost:8080/"
        },
        "id": "miJ0vqSwHCRd",
        "outputId": "b644f29b-beab-4af6-a100-779585b6a221"
      },
      "execution_count": 8,
      "outputs": [
        {
          "output_type": "stream",
          "name": "stdout",
          "text": [
            "After clear: {}\n"
          ]
        }
      ]
    }
  ]
}