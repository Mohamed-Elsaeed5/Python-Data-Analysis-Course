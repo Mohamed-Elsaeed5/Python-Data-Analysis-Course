{
  "nbformat": 4,
  "nbformat_minor": 0,
  "metadata": {
    "colab": {
      "provenance": []
    },
    "kernelspec": {
      "name": "python3",
      "display_name": "Python 3"
    },
    "language_info": {
      "name": "python"
    }
  },
  "cells": [
    {
      "cell_type": "markdown",
      "source": [
        "# Python if, elif, else - Conditional Statements\n"
      ],
      "metadata": {
        "id": "UNTDsMIRLGb7"
      }
    },
    {
      "cell_type": "code",
      "execution_count": 1,
      "metadata": {
        "colab": {
          "base_uri": "https://localhost:8080/"
        },
        "id": "gDnCq0-JLCZj",
        "outputId": "e64cf170-0336-42b0-cc81-641041c75b12"
      },
      "outputs": [
        {
          "output_type": "stream",
          "name": "stdout",
          "text": [
            "x is greater than 5\n"
          ]
        }
      ],
      "source": [
        "# 1. Basic if statement\n",
        "x = 10\n",
        "if x > 5:\n",
        "    print(\"x is greater than 5\")"
      ]
    },
    {
      "cell_type": "code",
      "source": [
        "# 2. if-else statement\n",
        "y = 3\n",
        "if y % 2 == 0:\n",
        "    print(\"y is even\")\n",
        "else:\n",
        "    print(\"y is odd\")"
      ],
      "metadata": {
        "colab": {
          "base_uri": "https://localhost:8080/"
        },
        "id": "KBey3H9KLNjq",
        "outputId": "49be2523-22d5-4339-ef05-3a781e721a51"
      },
      "execution_count": 2,
      "outputs": [
        {
          "output_type": "stream",
          "name": "stdout",
          "text": [
            "y is odd\n"
          ]
        }
      ]
    },
    {
      "cell_type": "code",
      "source": [
        "# 3. if-elif-else chain\n",
        "grade = 85\n",
        "if grade >= 90:\n",
        "    print(\"Grade: A\")\n",
        "elif grade >= 80:\n",
        "    print(\"Grade: B\")\n",
        "elif grade >= 70:\n",
        "    print(\"Grade: C\")\n",
        "else:\n",
        "    print(\"Grade: F\")"
      ],
      "metadata": {
        "colab": {
          "base_uri": "https://localhost:8080/"
        },
        "id": "OT0g6l9aLSmZ",
        "outputId": "8e29162c-a356-4965-8f15-b3e179308044"
      },
      "execution_count": 3,
      "outputs": [
        {
          "output_type": "stream",
          "name": "stdout",
          "text": [
            "Grade: B\n"
          ]
        }
      ]
    },
    {
      "cell_type": "code",
      "source": [
        "# 4. Nested if\n",
        "age = 18\n",
        "if age >= 18:\n",
        "    print(\"Adult\")\n",
        "    if age < 21:\n",
        "        print(\"Not allowed to drink in USA\")"
      ],
      "metadata": {
        "colab": {
          "base_uri": "https://localhost:8080/"
        },
        "id": "QIyG-7fYLTZx",
        "outputId": "3b2d9fa6-9bc3-46c0-e141-a143877dc1a0"
      },
      "execution_count": 4,
      "outputs": [
        {
          "output_type": "stream",
          "name": "stdout",
          "text": [
            "Adult\n",
            "Not allowed to drink in USA\n"
          ]
        }
      ]
    },
    {
      "cell_type": "code",
      "source": [
        "# 5. Using logical operators\n",
        "temp = 25\n",
        "if temp > 20 and temp < 30:\n",
        "    print(\"Nice weather\")"
      ],
      "metadata": {
        "colab": {
          "base_uri": "https://localhost:8080/"
        },
        "id": "1U9qsVYSLUf3",
        "outputId": "4dbcc0b8-8b7a-4c50-be3b-513e0f3c31ed"
      },
      "execution_count": 5,
      "outputs": [
        {
          "output_type": "stream",
          "name": "stdout",
          "text": [
            "Nice weather\n"
          ]
        }
      ]
    },
    {
      "cell_type": "code",
      "source": [
        "# 6. Ternary operator (short if-else)\n",
        "num = 7\n",
        "result = \"Even\" if num % 2 == 0 else \"Odd\"\n",
        "print(\"Number is:\", result)"
      ],
      "metadata": {
        "colab": {
          "base_uri": "https://localhost:8080/"
        },
        "id": "gA33hWMNLUdU",
        "outputId": "8e388597-b507-4d1b-a016-d9029040b6cc"
      },
      "execution_count": 6,
      "outputs": [
        {
          "output_type": "stream",
          "name": "stdout",
          "text": [
            "Number is: Odd\n"
          ]
        }
      ]
    },
    {
      "cell_type": "code",
      "source": [
        "# 7. Using if with input (commented)\n",
        "name = input(\"Enter your name: \")\n",
        "if name == \"Ali\":\n",
        "    print(\"Welcome, Ali!\")\n",
        "else:\n",
        "    print(\"You're not Ali.\")"
      ],
      "metadata": {
        "colab": {
          "base_uri": "https://localhost:8080/"
        },
        "id": "kJa-fd-HLUa5",
        "outputId": "d979dd38-9a18-4d7f-e56f-3791a83ceb7d"
      },
      "execution_count": 7,
      "outputs": [
        {
          "output_type": "stream",
          "name": "stdout",
          "text": [
            "Enter your name: 2\n",
            "You're not Ali.\n"
          ]
        }
      ]
    }
  ]
}