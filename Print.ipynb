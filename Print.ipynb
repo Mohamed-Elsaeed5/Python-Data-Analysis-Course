{
 "cells": [
  {
   "cell_type": "markdown",
   "metadata": {
    "id": "rYz1vkF4u8Ah"
   },
   "source": [
    "# Print"
   ]
  },
  {
   "cell_type": "code",
   "execution_count": 1,
   "metadata": {
    "colab": {
     "base_uri": "https://localhost:8080/"
    },
    "id": "J4rHDuTbu9m3",
    "outputId": "596f6243-13e6-460f-87ad-a149afd2548d"
   },
   "outputs": [
    {
     "name": "stdout",
     "output_type": "stream",
     "text": [
      "Hello, World!\n"
     ]
    }
   ],
   "source": [
    "# 1. Basic Printing\n",
    "print(\"Hello, World!\")"
   ]
  },
  {
   "cell_type": "code",
   "execution_count": 2,
   "metadata": {
    "colab": {
     "base_uri": "https://localhost:8080/"
    },
    "id": "ho3vc0Bhu24Q",
    "outputId": "25b15120-3912-4276-b531-9abeea7a8ae5"
   },
   "outputs": [
    {
     "name": "stdout",
     "output_type": "stream",
     "text": [
      "Name: Alice | Age: 30\n"
     ]
    }
   ],
   "source": [
    "# 2. Printing Multiple Items (separated by space by default)\n",
    "name = \"Alice\"\n",
    "age = 30\n",
    "print(\"Name:\", name, \"| Age:\", age)"
   ]
  },
  {
   "cell_type": "code",
   "execution_count": 3,
   "metadata": {
    "colab": {
     "base_uri": "https://localhost:8080/"
    },
    "id": "BUwB4iYsvz0Z",
    "outputId": "074bd2da-ab3d-467e-eda1-bfd8bc20364a"
   },
   "outputs": [
    {
     "name": "stdout",
     "output_type": "stream",
     "text": [
      "Python | Java | C++\n"
     ]
    }
   ],
   "source": [
    "# 3. Using sep to change the separator\n",
    "print(\"Python\", \"Java\", \"C++\", sep=\" | \")"
   ]
  },
  {
   "cell_type": "code",
   "execution_count": 4,
   "metadata": {
    "colab": {
     "base_uri": "https://localhost:8080/"
    },
    "id": "6wpXnvbNv1gZ",
    "outputId": "bec0b801-90a1-42f4-9b93-1ec449d8fe03"
   },
   "outputs": [
    {
     "name": "stdout",
     "output_type": "stream",
     "text": [
      "Start >>> End\n"
     ]
    }
   ],
   "source": [
    "# 4. Using end to control what’s printed at the end\n",
    "print(\"Start\", end=\" >>> \")\n",
    "print(\"End\")"
   ]
  },
  {
   "cell_type": "code",
   "execution_count": 5,
   "metadata": {
    "colab": {
     "base_uri": "https://localhost:8080/"
    },
    "id": "f6BZFH-ev266",
    "outputId": "a7bc3fdf-6cb4-452c-bcbf-72c335e49476"
   },
   "outputs": [
    {
     "name": "stdout",
     "output_type": "stream",
     "text": [
      "The temperature in Cairo is 35.6°C\n"
     ]
    }
   ],
   "source": [
    "# 5. Printing formatted strings (f-strings)\n",
    "city = \"Cairo\"\n",
    "temperature = 35.6\n",
    "print(f\"The temperature in {city} is {temperature}°C\")"
   ]
  },
  {
   "cell_type": "code",
   "execution_count": 6,
   "metadata": {
    "colab": {
     "base_uri": "https://localhost:8080/"
    },
    "id": "Eai-pLL-v4GZ",
    "outputId": "c9b61fc0-d635-4b4a-caf2-7ea5d7e1eb31"
   },
   "outputs": [
    {
     "name": "stdout",
     "output_type": "stream",
     "text": [
      "Rounded pi: 3.14\n"
     ]
    }
   ],
   "source": [
    "# 6. Formatting numbers with f-string\n",
    "pi = 3.14159265\n",
    "print(f\"Rounded pi: {pi:.2f}\")  # 2 decimal places"
   ]
  },
  {
   "cell_type": "code",
   "execution_count": 7,
   "metadata": {
    "colab": {
     "base_uri": "https://localhost:8080/"
    },
    "id": "fuSH5jgWv5S5",
    "outputId": "4a4050d7-7210-43f9-e7ab-b96bb31ec2e8"
   },
   "outputs": [
    {
     "name": "stdout",
     "output_type": "stream",
     "text": [
      "Name: Alice | Age: 30\n"
     ]
    }
   ],
   "source": [
    "# 7. Old-style string formatting\n",
    "print(\"Name: %s | Age: %d\" % (name, age))"
   ]
  },
  {
   "cell_type": "code",
   "execution_count": 8,
   "metadata": {
    "colab": {
     "base_uri": "https://localhost:8080/"
    },
    "id": "JOp9OM7sv6ba",
    "outputId": "d48db4d9-fb44-45cc-fbd0-4d83a7e5c4fc"
   },
   "outputs": [
    {
     "name": "stdout",
     "output_type": "stream",
     "text": [
      "Name: Alice | Age: 30\n",
      "Reversed: second | first\n"
     ]
    }
   ],
   "source": [
    "# 8. Using str.format() method\n",
    "print(\"Name: {} | Age: {}\".format(name, age))\n",
    "print(\"Reversed: {1} | {0}\".format(\"first\", \"second\"))"
   ]
  },
  {
   "cell_type": "code",
   "execution_count": 14,
   "metadata": {
    "colab": {
     "base_uri": "https://localhost:8080/"
    },
    "id": "LWLK1NGav7XJ",
    "outputId": "e5ca99a9-4338-40ac-bf13-10b92d80641c"
   },
   "outputs": [
    {
     "name": "stdout",
     "output_type": "stream",
     "text": [
      "Line1\n",
      "Line2\tTabbed\n",
      "Line A\n",
      "Line B\n",
      "Name:\tAlice\n",
      "Backslash: \\\n",
      "He said: \"Hello!\"\n",
      "It's a sunny day.\n"
     ]
    }
   ],
   "source": [
    "# 9. Print with escape characters\n",
    "print(\"Line1\\nLine2\\tTabbed\")\n",
    "print(\"Line A\\nLine B\")           # \\n = new line\n",
    "print(\"Name:\\tAlice\")             # \\t = tab\n",
    "print(\"Backslash: \\\\\")            # \\\\ = backslash\n",
    "print(\"He said: \\\"Hello!\\\"\")      # \\\" = double quote\n",
    "print('It\\'s a sunny day.')       # \\' = single quote"
   ]
  },
  {
   "cell_type": "code",
   "execution_count": 10,
   "metadata": {
    "colab": {
     "base_uri": "https://localhost:8080/"
    },
    "id": "94s7wMBCv8Fx",
    "outputId": "56a76087-a032-481a-8d5d-ee2c12d76142"
   },
   "outputs": [
    {
     "name": "stdout",
     "output_type": "stream",
     "text": [
      "Smile emoji: ☺\n"
     ]
    }
   ],
   "source": [
    "# 10. Print Unicode and special characters\n",
    "print(\"Smile emoji: \\u263A\")"
   ]
  },
  {
   "cell_type": "code",
   "execution_count": 15,
   "metadata": {
    "id": "I5ZR17_Ev9I6"
   },
   "outputs": [],
   "source": [
    "# 11. Print to a file (optional)\n",
    "with open(\"sample_output.txt\", \"w\") as file:\n",
    "    print(\"This will go into a file.\", file=file)"
   ]
  },
  {
   "cell_type": "code",
   "execution_count": 16,
   "metadata": {
    "colab": {
     "base_uri": "https://localhost:8080/"
    },
    "id": "qfx5KSs_v9th",
    "outputId": "41e3ab39-df7d-418c-903d-2e86269d1b1e"
   },
   "outputs": [
    {
     "name": "stdout",
     "output_type": "stream",
     "text": [
      "hello world\n"
     ]
    }
   ],
   "source": [
    "# 12. String Concatenation with print()\n",
    "print('hello ' + 'world')  # Outputs: helloworld"
   ]
  },
  {
   "cell_type": "code",
   "execution_count": null,
   "metadata": {
    "id": "O_w-BueIwFxx"
   },
   "outputs": [],
   "source": []
  }
 ],
 "metadata": {
  "colab": {
   "provenance": []
  },
  "kernelspec": {
   "display_name": "Python 3 (ipykernel)",
   "language": "python",
   "name": "python3"
  },
  "language_info": {
   "codemirror_mode": {
    "name": "ipython",
    "version": 3
   },
   "file_extension": ".py",
   "mimetype": "text/x-python",
   "name": "python",
   "nbconvert_exporter": "python",
   "pygments_lexer": "ipython3",
   "version": "3.12.5"
  }
 },
 "nbformat": 4,
 "nbformat_minor": 4
}
