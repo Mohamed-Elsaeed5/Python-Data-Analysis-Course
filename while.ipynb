{
  "nbformat": 4,
  "nbformat_minor": 0,
  "metadata": {
    "colab": {
      "provenance": []
    },
    "kernelspec": {
      "name": "python3",
      "display_name": "Python 3"
    },
    "language_info": {
      "name": "python"
    }
  },
  "cells": [
    {
      "cell_type": "markdown",
      "source": [
        "# Python while Loops - Examples and Usage"
      ],
      "metadata": {
        "id": "7RLb24fMONEv"
      }
    },
    {
      "cell_type": "code",
      "execution_count": 1,
      "metadata": {
        "colab": {
          "base_uri": "https://localhost:8080/"
        },
        "id": "aEPxIdWmOKqv",
        "outputId": "d125fff9-d6e0-4dea-fe54-d4c4e0145418"
      },
      "outputs": [
        {
          "output_type": "stream",
          "name": "stdout",
          "text": [
            "Count: 0\n",
            "Count: 1\n",
            "Count: 2\n"
          ]
        }
      ],
      "source": [
        "# 1. Basic while loop\n",
        "count = 0\n",
        "while count < 3:\n",
        "    print(\"Count:\", count)\n",
        "    count += 1"
      ]
    },
    {
      "cell_type": "code",
      "source": [
        "# 2. while with else\n",
        "x = 1\n",
        "while x <= 3:\n",
        "    print(\"x =\", x)\n",
        "    x += 1\n",
        "else:\n",
        "    print(\"Loop finished\")"
      ],
      "metadata": {
        "colab": {
          "base_uri": "https://localhost:8080/"
        },
        "id": "ho7yl0FBOxAc",
        "outputId": "db85ebc7-09c0-4ee6-e978-927149e0f8ee"
      },
      "execution_count": 2,
      "outputs": [
        {
          "output_type": "stream",
          "name": "stdout",
          "text": [
            "x = 1\n",
            "x = 2\n",
            "x = 3\n",
            "Loop finished\n"
          ]
        }
      ]
    },
    {
      "cell_type": "code",
      "source": [
        "# 3. Infinite loop with break\n",
        "while True:\n",
        "    print(\"Running...\")\n",
        "    break  # stops after first run"
      ],
      "metadata": {
        "colab": {
          "base_uri": "https://localhost:8080/"
        },
        "id": "t4xeKUj1Ow9q",
        "outputId": "4dcd03d8-0f30-4503-9ebe-98f5e798e006"
      },
      "execution_count": 3,
      "outputs": [
        {
          "output_type": "stream",
          "name": "stdout",
          "text": [
            "Running...\n"
          ]
        }
      ]
    },
    {
      "cell_type": "code",
      "source": [
        "# 4. Using continue\n",
        "i = 0\n",
        "while i < 5:\n",
        "    i += 1\n",
        "    if i == 3:\n",
        "        continue  # skip when i == 3\n",
        "    print(\"i =\", i)"
      ],
      "metadata": {
        "colab": {
          "base_uri": "https://localhost:8080/"
        },
        "id": "TL-zNedZOw7R",
        "outputId": "2fd05827-a2d6-4a8e-de81-a2b599d115d3"
      },
      "execution_count": 4,
      "outputs": [
        {
          "output_type": "stream",
          "name": "stdout",
          "text": [
            "i = 1\n",
            "i = 2\n",
            "i = 4\n",
            "i = 5\n"
          ]
        }
      ]
    },
    {
      "cell_type": "code",
      "source": [
        "# 5. Countdown example\n",
        "n = 5\n",
        "while n > 0:\n",
        "    print(\"Countdown:\", n)\n",
        "    n -= 1\n",
        "print(\"Go!\")"
      ],
      "metadata": {
        "colab": {
          "base_uri": "https://localhost:8080/"
        },
        "id": "eWXu2hlpOw4h",
        "outputId": "098dbc5d-3d4b-423f-e34d-a775b2746153"
      },
      "execution_count": 5,
      "outputs": [
        {
          "output_type": "stream",
          "name": "stdout",
          "text": [
            "Countdown: 5\n",
            "Countdown: 4\n",
            "Countdown: 3\n",
            "Countdown: 2\n",
            "Countdown: 1\n",
            "Go!\n"
          ]
        }
      ]
    },
    {
      "cell_type": "code",
      "source": [
        "# 6. Validating input using while (commented to avoid blocking)\n",
        "while True:\n",
        "    name = input(\"Enter your name (type 'exit' to quit): \")\n",
        "    if name == \"exit\":\n",
        "        break\n",
        "    print(\"Hello\", name)"
      ],
      "metadata": {
        "colab": {
          "base_uri": "https://localhost:8080/"
        },
        "id": "-AK7Mje1Ow1g",
        "outputId": "b02997cc-18cd-42f7-a754-2b35e25d37ea"
      },
      "execution_count": 6,
      "outputs": [
        {
          "name": "stdout",
          "output_type": "stream",
          "text": [
            "Enter your name (type 'exit' to quit): exsit\n",
            "Hello exsit\n",
            "Enter your name (type 'exit' to quit): exit\n"
          ]
        }
      ]
    }
  ]
}