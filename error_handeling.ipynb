{
  "nbformat": 4,
  "nbformat_minor": 0,
  "metadata": {
    "colab": {
      "provenance": []
    },
    "kernelspec": {
      "name": "python3",
      "display_name": "Python 3"
    },
    "language_info": {
      "name": "python"
    }
  },
  "cells": [
    {
      "cell_type": "markdown",
      "source": [
        "# Python try-except - Error Handling"
      ],
      "metadata": {
        "id": "GDj3-9X-SEkm"
      }
    },
    {
      "cell_type": "code",
      "execution_count": null,
      "metadata": {
        "id": "5gD93NOVR-8i"
      },
      "outputs": [],
      "source": [
        "# 1. Basic try-except\n",
        "try:\n",
        "    x = int(\"abc\")  # will raise ValueError\n",
        "except ValueError:\n",
        "    print(\"Error: Cannot convert 'abc' to int\")"
      ]
    },
    {
      "cell_type": "code",
      "source": [
        "# 2. Catching multiple exceptions\n",
        "try:\n",
        "    a = 10 / 0       # ZeroDivisionError\n",
        "    b = int(\"hello\") # ValueError (won't be reached)\n",
        "except (ZeroDivisionError, ValueError) as e:\n",
        "    print(\"Caught error:\", e)"
      ],
      "metadata": {
        "id": "9RsOWfYRSHGj"
      },
      "execution_count": null,
      "outputs": []
    },
    {
      "cell_type": "code",
      "source": [
        "# 3. Using else (runs if no error)\n",
        "try:\n",
        "    num = int(\"123\")\n",
        "except ValueError:\n",
        "    print(\"Invalid number\")\n",
        "else:\n",
        "    print(\"Conversion successful:\", num)"
      ],
      "metadata": {
        "id": "iDwjOL8tSHDt"
      },
      "execution_count": null,
      "outputs": []
    },
    {
      "cell_type": "code",
      "source": [
        "# 4. Using finally (runs no matter what)\n",
        "try:\n",
        "    result = 10 / 2\n",
        "except:\n",
        "    print(\"Error occurred\")\n",
        "finally:\n",
        "    print(\"Finished try-except block\")"
      ],
      "metadata": {
        "id": "Afe772Y-SHA8"
      },
      "execution_count": null,
      "outputs": []
    },
    {
      "cell_type": "code",
      "source": [
        "# 5. Custom error message + continue program\n",
        "data = [\"12\", \"abc\", \"7\"]\n",
        "for item in data:\n",
        "    try:\n",
        "        print(\"Converted:\", int(item))\n",
        "    except:\n",
        "        print(f\"Skipping invalid item: {item}\")"
      ],
      "metadata": {
        "id": "gMWuhUxASG-v"
      },
      "execution_count": null,
      "outputs": []
    },
    {
      "cell_type": "code",
      "source": [
        "# 6. Define your own exception (advanced use)\n",
        "def divide(a, b):\n",
        "    if b == 0:\n",
        "        raise ValueError(\"Denominator cannot be zero\")\n",
        "    return a / b\n",
        "\n",
        "try:\n",
        "    print(\"Result:\", divide(10, 0))\n",
        "except ValueError as err:\n",
        "    print(\"Custom error:\", err)"
      ],
      "metadata": {
        "id": "2ZFcyLbXSG8Z"
      },
      "execution_count": null,
      "outputs": []
    }
  ]
}