{
 "cells": [
  {
   "cell_type": "code",
   "execution_count": 8,
   "metadata": {
    "colab": {
     "base_uri": "https://localhost:8080/"
    },
    "collapsed": true,
    "id": "5n_0T5_KUvTe",
    "jupyter": {
     "outputs_hidden": true
    },
    "outputId": "9bbaf6d1-2a48-43de-d09b-a7c599223b19"
   },
   "outputs": [
    {
     "name": "stdout",
     "output_type": "stream",
     "text": [
      "1. Original DataFrame:\n",
      "     Name   Age   City  Score\n",
      "0    Ali  25.0  Cairo   88.0\n",
      "1   Sara  30.0   Alex   92.0\n",
      "2   Omar  22.0   Giza    NaN\n",
      "3  Laila   NaN  Cairo   70.0\n",
      "4   John  28.0   Alex   85.0 \n",
      "\n",
      "2. Head:\n",
      "     Name   Age   City  Score\n",
      "0    Ali  25.0  Cairo   88.0\n",
      "1   Sara  30.0   Alex   92.0\n",
      "2   Omar  22.0   Giza    NaN\n",
      "3  Laila   NaN  Cairo   70.0\n",
      "4   John  28.0   Alex   85.0 \n",
      "\n"
     ]
    }
   ],
   "source": [
    "import pandas as pd\n",
    "import numpy as np\n",
    "\n",
    "# 1. Create DataFrame\n",
    "df = pd.DataFrame({\n",
    "    'Name': ['Ali', 'Sara', 'Omar', 'Laila', 'John'],\n",
    "    'Age': [25, 30, 22, np.nan, 28],\n",
    "    'City': ['Cairo', 'Alex', 'Giza', 'Cairo', 'Alex'],\n",
    "    'Score': [88, 92, np.nan, 70, 85]\n",
    "})\n",
    "print(\"1. Original DataFrame:\\n\", df, \"\\n\")\n",
    "\n",
    "# 2. View head\n",
    "print(\"2. Head:\\n\", df.head(), \"\\n\")"
   ]
  },
  {
   "cell_type": "code",
   "execution_count": 9,
   "metadata": {
    "colab": {
     "base_uri": "https://localhost:8080/",
     "height": 80
    },
    "id": "HN0hnomuX56W",
    "outputId": "6e523d9c-69c4-46f2-fad8-98d1a6dbc25b"
   },
   "outputs": [
    {
     "data": {
      "application/vnd.google.colaboratory.intrinsic+json": {
       "summary": "{\n  \"name\": \"df\",\n  \"rows\": 1,\n  \"fields\": [\n    {\n      \"column\": \"Name\",\n      \"properties\": {\n        \"dtype\": \"string\",\n        \"num_unique_values\": 1,\n        \"samples\": [\n          \"John\"\n        ],\n        \"semantic_type\": \"\",\n        \"description\": \"\"\n      }\n    },\n    {\n      \"column\": \"Age\",\n      \"properties\": {\n        \"dtype\": \"number\",\n        \"std\": null,\n        \"min\": 28.0,\n        \"max\": 28.0,\n        \"num_unique_values\": 1,\n        \"samples\": [\n          28.0\n        ],\n        \"semantic_type\": \"\",\n        \"description\": \"\"\n      }\n    },\n    {\n      \"column\": \"City\",\n      \"properties\": {\n        \"dtype\": \"string\",\n        \"num_unique_values\": 1,\n        \"samples\": [\n          \"Alex\"\n        ],\n        \"semantic_type\": \"\",\n        \"description\": \"\"\n      }\n    },\n    {\n      \"column\": \"Score\",\n      \"properties\": {\n        \"dtype\": \"number\",\n        \"std\": null,\n        \"min\": 85.0,\n        \"max\": 85.0,\n        \"num_unique_values\": 1,\n        \"samples\": [\n          85.0\n        ],\n        \"semantic_type\": \"\",\n        \"description\": \"\"\n      }\n    }\n  ]\n}",
       "type": "dataframe"
      },
      "text/html": [
       "\n",
       "  <div id=\"df-c2c33fed-ab96-4c62-abc0-05b675938aa6\" class=\"colab-df-container\">\n",
       "    <div>\n",
       "<style scoped>\n",
       "    .dataframe tbody tr th:only-of-type {\n",
       "        vertical-align: middle;\n",
       "    }\n",
       "\n",
       "    .dataframe tbody tr th {\n",
       "        vertical-align: top;\n",
       "    }\n",
       "\n",
       "    .dataframe thead th {\n",
       "        text-align: right;\n",
       "    }\n",
       "</style>\n",
       "<table border=\"1\" class=\"dataframe\">\n",
       "  <thead>\n",
       "    <tr style=\"text-align: right;\">\n",
       "      <th></th>\n",
       "      <th>Name</th>\n",
       "      <th>Age</th>\n",
       "      <th>City</th>\n",
       "      <th>Score</th>\n",
       "    </tr>\n",
       "  </thead>\n",
       "  <tbody>\n",
       "    <tr>\n",
       "      <th>4</th>\n",
       "      <td>John</td>\n",
       "      <td>28.0</td>\n",
       "      <td>Alex</td>\n",
       "      <td>85.0</td>\n",
       "    </tr>\n",
       "  </tbody>\n",
       "</table>\n",
       "</div>\n",
       "    <div class=\"colab-df-buttons\">\n",
       "\n",
       "  <div class=\"colab-df-container\">\n",
       "    <button class=\"colab-df-convert\" onclick=\"convertToInteractive('df-c2c33fed-ab96-4c62-abc0-05b675938aa6')\"\n",
       "            title=\"Convert this dataframe to an interactive table.\"\n",
       "            style=\"display:none;\">\n",
       "\n",
       "  <svg xmlns=\"http://www.w3.org/2000/svg\" height=\"24px\" viewBox=\"0 -960 960 960\">\n",
       "    <path d=\"M120-120v-720h720v720H120Zm60-500h600v-160H180v160Zm220 220h160v-160H400v160Zm0 220h160v-160H400v160ZM180-400h160v-160H180v160Zm440 0h160v-160H620v160ZM180-180h160v-160H180v160Zm440 0h160v-160H620v160Z\"/>\n",
       "  </svg>\n",
       "    </button>\n",
       "\n",
       "  <style>\n",
       "    .colab-df-container {\n",
       "      display:flex;\n",
       "      gap: 12px;\n",
       "    }\n",
       "\n",
       "    .colab-df-convert {\n",
       "      background-color: #E8F0FE;\n",
       "      border: none;\n",
       "      border-radius: 50%;\n",
       "      cursor: pointer;\n",
       "      display: none;\n",
       "      fill: #1967D2;\n",
       "      height: 32px;\n",
       "      padding: 0 0 0 0;\n",
       "      width: 32px;\n",
       "    }\n",
       "\n",
       "    .colab-df-convert:hover {\n",
       "      background-color: #E2EBFA;\n",
       "      box-shadow: 0px 1px 2px rgba(60, 64, 67, 0.3), 0px 1px 3px 1px rgba(60, 64, 67, 0.15);\n",
       "      fill: #174EA6;\n",
       "    }\n",
       "\n",
       "    .colab-df-buttons div {\n",
       "      margin-bottom: 4px;\n",
       "    }\n",
       "\n",
       "    [theme=dark] .colab-df-convert {\n",
       "      background-color: #3B4455;\n",
       "      fill: #D2E3FC;\n",
       "    }\n",
       "\n",
       "    [theme=dark] .colab-df-convert:hover {\n",
       "      background-color: #434B5C;\n",
       "      box-shadow: 0px 1px 3px 1px rgba(0, 0, 0, 0.15);\n",
       "      filter: drop-shadow(0px 1px 2px rgba(0, 0, 0, 0.3));\n",
       "      fill: #FFFFFF;\n",
       "    }\n",
       "  </style>\n",
       "\n",
       "    <script>\n",
       "      const buttonEl =\n",
       "        document.querySelector('#df-c2c33fed-ab96-4c62-abc0-05b675938aa6 button.colab-df-convert');\n",
       "      buttonEl.style.display =\n",
       "        google.colab.kernel.accessAllowed ? 'block' : 'none';\n",
       "\n",
       "      async function convertToInteractive(key) {\n",
       "        const element = document.querySelector('#df-c2c33fed-ab96-4c62-abc0-05b675938aa6');\n",
       "        const dataTable =\n",
       "          await google.colab.kernel.invokeFunction('convertToInteractive',\n",
       "                                                    [key], {});\n",
       "        if (!dataTable) return;\n",
       "\n",
       "        const docLinkHtml = 'Like what you see? Visit the ' +\n",
       "          '<a target=\"_blank\" href=https://colab.research.google.com/notebooks/data_table.ipynb>data table notebook</a>'\n",
       "          + ' to learn more about interactive tables.';\n",
       "        element.innerHTML = '';\n",
       "        dataTable['output_type'] = 'display_data';\n",
       "        await google.colab.output.renderOutput(dataTable, element);\n",
       "        const docLink = document.createElement('div');\n",
       "        docLink.innerHTML = docLinkHtml;\n",
       "        element.appendChild(docLink);\n",
       "      }\n",
       "    </script>\n",
       "  </div>\n",
       "\n",
       "\n",
       "    </div>\n",
       "  </div>\n"
      ],
      "text/plain": [
       "   Name   Age  City  Score\n",
       "4  John  28.0  Alex   85.0"
      ]
     },
     "execution_count": 9,
     "metadata": {},
     "output_type": "execute_result"
    }
   ],
   "source": [
    "df.sample()"
   ]
  },
  {
   "cell_type": "code",
   "execution_count": 10,
   "metadata": {
    "colab": {
     "base_uri": "https://localhost:8080/",
     "height": 206
    },
    "id": "_UOzvi_dX8u9",
    "outputId": "d3bc8ef8-59f8-4a32-b940-155eb69d6612"
   },
   "outputs": [
    {
     "data": {
      "application/vnd.google.colaboratory.intrinsic+json": {
       "summary": "{\n  \"name\": \"df\",\n  \"rows\": 5,\n  \"fields\": [\n    {\n      \"column\": \"Name\",\n      \"properties\": {\n        \"dtype\": \"string\",\n        \"num_unique_values\": 5,\n        \"samples\": [\n          \"Sara\",\n          \"John\",\n          \"Omar\"\n        ],\n        \"semantic_type\": \"\",\n        \"description\": \"\"\n      }\n    },\n    {\n      \"column\": \"Age\",\n      \"properties\": {\n        \"dtype\": \"number\",\n        \"std\": 3.5,\n        \"min\": 22.0,\n        \"max\": 30.0,\n        \"num_unique_values\": 4,\n        \"samples\": [\n          30.0,\n          28.0,\n          25.0\n        ],\n        \"semantic_type\": \"\",\n        \"description\": \"\"\n      }\n    },\n    {\n      \"column\": \"City\",\n      \"properties\": {\n        \"dtype\": \"string\",\n        \"num_unique_values\": 3,\n        \"samples\": [\n          \"Cairo\",\n          \"Alex\",\n          \"Giza\"\n        ],\n        \"semantic_type\": \"\",\n        \"description\": \"\"\n      }\n    },\n    {\n      \"column\": \"Score\",\n      \"properties\": {\n        \"dtype\": \"number\",\n        \"std\": 9.604686356149273,\n        \"min\": 70.0,\n        \"max\": 92.0,\n        \"num_unique_values\": 4,\n        \"samples\": [\n          92.0,\n          85.0,\n          88.0\n        ],\n        \"semantic_type\": \"\",\n        \"description\": \"\"\n      }\n    }\n  ]\n}",
       "type": "dataframe"
      },
      "text/html": [
       "\n",
       "  <div id=\"df-0ed24d58-41cb-4397-8822-6eac5c3fbd3f\" class=\"colab-df-container\">\n",
       "    <div>\n",
       "<style scoped>\n",
       "    .dataframe tbody tr th:only-of-type {\n",
       "        vertical-align: middle;\n",
       "    }\n",
       "\n",
       "    .dataframe tbody tr th {\n",
       "        vertical-align: top;\n",
       "    }\n",
       "\n",
       "    .dataframe thead th {\n",
       "        text-align: right;\n",
       "    }\n",
       "</style>\n",
       "<table border=\"1\" class=\"dataframe\">\n",
       "  <thead>\n",
       "    <tr style=\"text-align: right;\">\n",
       "      <th></th>\n",
       "      <th>Name</th>\n",
       "      <th>Age</th>\n",
       "      <th>City</th>\n",
       "      <th>Score</th>\n",
       "    </tr>\n",
       "  </thead>\n",
       "  <tbody>\n",
       "    <tr>\n",
       "      <th>0</th>\n",
       "      <td>Ali</td>\n",
       "      <td>25.0</td>\n",
       "      <td>Cairo</td>\n",
       "      <td>88.0</td>\n",
       "    </tr>\n",
       "    <tr>\n",
       "      <th>1</th>\n",
       "      <td>Sara</td>\n",
       "      <td>30.0</td>\n",
       "      <td>Alex</td>\n",
       "      <td>92.0</td>\n",
       "    </tr>\n",
       "    <tr>\n",
       "      <th>2</th>\n",
       "      <td>Omar</td>\n",
       "      <td>22.0</td>\n",
       "      <td>Giza</td>\n",
       "      <td>NaN</td>\n",
       "    </tr>\n",
       "    <tr>\n",
       "      <th>3</th>\n",
       "      <td>Laila</td>\n",
       "      <td>NaN</td>\n",
       "      <td>Cairo</td>\n",
       "      <td>70.0</td>\n",
       "    </tr>\n",
       "    <tr>\n",
       "      <th>4</th>\n",
       "      <td>John</td>\n",
       "      <td>28.0</td>\n",
       "      <td>Alex</td>\n",
       "      <td>85.0</td>\n",
       "    </tr>\n",
       "  </tbody>\n",
       "</table>\n",
       "</div>\n",
       "    <div class=\"colab-df-buttons\">\n",
       "\n",
       "  <div class=\"colab-df-container\">\n",
       "    <button class=\"colab-df-convert\" onclick=\"convertToInteractive('df-0ed24d58-41cb-4397-8822-6eac5c3fbd3f')\"\n",
       "            title=\"Convert this dataframe to an interactive table.\"\n",
       "            style=\"display:none;\">\n",
       "\n",
       "  <svg xmlns=\"http://www.w3.org/2000/svg\" height=\"24px\" viewBox=\"0 -960 960 960\">\n",
       "    <path d=\"M120-120v-720h720v720H120Zm60-500h600v-160H180v160Zm220 220h160v-160H400v160Zm0 220h160v-160H400v160ZM180-400h160v-160H180v160Zm440 0h160v-160H620v160ZM180-180h160v-160H180v160Zm440 0h160v-160H620v160Z\"/>\n",
       "  </svg>\n",
       "    </button>\n",
       "\n",
       "  <style>\n",
       "    .colab-df-container {\n",
       "      display:flex;\n",
       "      gap: 12px;\n",
       "    }\n",
       "\n",
       "    .colab-df-convert {\n",
       "      background-color: #E8F0FE;\n",
       "      border: none;\n",
       "      border-radius: 50%;\n",
       "      cursor: pointer;\n",
       "      display: none;\n",
       "      fill: #1967D2;\n",
       "      height: 32px;\n",
       "      padding: 0 0 0 0;\n",
       "      width: 32px;\n",
       "    }\n",
       "\n",
       "    .colab-df-convert:hover {\n",
       "      background-color: #E2EBFA;\n",
       "      box-shadow: 0px 1px 2px rgba(60, 64, 67, 0.3), 0px 1px 3px 1px rgba(60, 64, 67, 0.15);\n",
       "      fill: #174EA6;\n",
       "    }\n",
       "\n",
       "    .colab-df-buttons div {\n",
       "      margin-bottom: 4px;\n",
       "    }\n",
       "\n",
       "    [theme=dark] .colab-df-convert {\n",
       "      background-color: #3B4455;\n",
       "      fill: #D2E3FC;\n",
       "    }\n",
       "\n",
       "    [theme=dark] .colab-df-convert:hover {\n",
       "      background-color: #434B5C;\n",
       "      box-shadow: 0px 1px 3px 1px rgba(0, 0, 0, 0.15);\n",
       "      filter: drop-shadow(0px 1px 2px rgba(0, 0, 0, 0.3));\n",
       "      fill: #FFFFFF;\n",
       "    }\n",
       "  </style>\n",
       "\n",
       "    <script>\n",
       "      const buttonEl =\n",
       "        document.querySelector('#df-0ed24d58-41cb-4397-8822-6eac5c3fbd3f button.colab-df-convert');\n",
       "      buttonEl.style.display =\n",
       "        google.colab.kernel.accessAllowed ? 'block' : 'none';\n",
       "\n",
       "      async function convertToInteractive(key) {\n",
       "        const element = document.querySelector('#df-0ed24d58-41cb-4397-8822-6eac5c3fbd3f');\n",
       "        const dataTable =\n",
       "          await google.colab.kernel.invokeFunction('convertToInteractive',\n",
       "                                                    [key], {});\n",
       "        if (!dataTable) return;\n",
       "\n",
       "        const docLinkHtml = 'Like what you see? Visit the ' +\n",
       "          '<a target=\"_blank\" href=https://colab.research.google.com/notebooks/data_table.ipynb>data table notebook</a>'\n",
       "          + ' to learn more about interactive tables.';\n",
       "        element.innerHTML = '';\n",
       "        dataTable['output_type'] = 'display_data';\n",
       "        await google.colab.output.renderOutput(dataTable, element);\n",
       "        const docLink = document.createElement('div');\n",
       "        docLink.innerHTML = docLinkHtml;\n",
       "        element.appendChild(docLink);\n",
       "      }\n",
       "    </script>\n",
       "  </div>\n",
       "\n",
       "\n",
       "    <div id=\"df-4350f2f8-cfa6-464b-8240-b2c5ac8c9c69\">\n",
       "      <button class=\"colab-df-quickchart\" onclick=\"quickchart('df-4350f2f8-cfa6-464b-8240-b2c5ac8c9c69')\"\n",
       "                title=\"Suggest charts\"\n",
       "                style=\"display:none;\">\n",
       "\n",
       "<svg xmlns=\"http://www.w3.org/2000/svg\" height=\"24px\"viewBox=\"0 0 24 24\"\n",
       "     width=\"24px\">\n",
       "    <g>\n",
       "        <path d=\"M19 3H5c-1.1 0-2 .9-2 2v14c0 1.1.9 2 2 2h14c1.1 0 2-.9 2-2V5c0-1.1-.9-2-2-2zM9 17H7v-7h2v7zm4 0h-2V7h2v10zm4 0h-2v-4h2v4z\"/>\n",
       "    </g>\n",
       "</svg>\n",
       "      </button>\n",
       "\n",
       "<style>\n",
       "  .colab-df-quickchart {\n",
       "      --bg-color: #E8F0FE;\n",
       "      --fill-color: #1967D2;\n",
       "      --hover-bg-color: #E2EBFA;\n",
       "      --hover-fill-color: #174EA6;\n",
       "      --disabled-fill-color: #AAA;\n",
       "      --disabled-bg-color: #DDD;\n",
       "  }\n",
       "\n",
       "  [theme=dark] .colab-df-quickchart {\n",
       "      --bg-color: #3B4455;\n",
       "      --fill-color: #D2E3FC;\n",
       "      --hover-bg-color: #434B5C;\n",
       "      --hover-fill-color: #FFFFFF;\n",
       "      --disabled-bg-color: #3B4455;\n",
       "      --disabled-fill-color: #666;\n",
       "  }\n",
       "\n",
       "  .colab-df-quickchart {\n",
       "    background-color: var(--bg-color);\n",
       "    border: none;\n",
       "    border-radius: 50%;\n",
       "    cursor: pointer;\n",
       "    display: none;\n",
       "    fill: var(--fill-color);\n",
       "    height: 32px;\n",
       "    padding: 0;\n",
       "    width: 32px;\n",
       "  }\n",
       "\n",
       "  .colab-df-quickchart:hover {\n",
       "    background-color: var(--hover-bg-color);\n",
       "    box-shadow: 0 1px 2px rgba(60, 64, 67, 0.3), 0 1px 3px 1px rgba(60, 64, 67, 0.15);\n",
       "    fill: var(--button-hover-fill-color);\n",
       "  }\n",
       "\n",
       "  .colab-df-quickchart-complete:disabled,\n",
       "  .colab-df-quickchart-complete:disabled:hover {\n",
       "    background-color: var(--disabled-bg-color);\n",
       "    fill: var(--disabled-fill-color);\n",
       "    box-shadow: none;\n",
       "  }\n",
       "\n",
       "  .colab-df-spinner {\n",
       "    border: 2px solid var(--fill-color);\n",
       "    border-color: transparent;\n",
       "    border-bottom-color: var(--fill-color);\n",
       "    animation:\n",
       "      spin 1s steps(1) infinite;\n",
       "  }\n",
       "\n",
       "  @keyframes spin {\n",
       "    0% {\n",
       "      border-color: transparent;\n",
       "      border-bottom-color: var(--fill-color);\n",
       "      border-left-color: var(--fill-color);\n",
       "    }\n",
       "    20% {\n",
       "      border-color: transparent;\n",
       "      border-left-color: var(--fill-color);\n",
       "      border-top-color: var(--fill-color);\n",
       "    }\n",
       "    30% {\n",
       "      border-color: transparent;\n",
       "      border-left-color: var(--fill-color);\n",
       "      border-top-color: var(--fill-color);\n",
       "      border-right-color: var(--fill-color);\n",
       "    }\n",
       "    40% {\n",
       "      border-color: transparent;\n",
       "      border-right-color: var(--fill-color);\n",
       "      border-top-color: var(--fill-color);\n",
       "    }\n",
       "    60% {\n",
       "      border-color: transparent;\n",
       "      border-right-color: var(--fill-color);\n",
       "    }\n",
       "    80% {\n",
       "      border-color: transparent;\n",
       "      border-right-color: var(--fill-color);\n",
       "      border-bottom-color: var(--fill-color);\n",
       "    }\n",
       "    90% {\n",
       "      border-color: transparent;\n",
       "      border-bottom-color: var(--fill-color);\n",
       "    }\n",
       "  }\n",
       "</style>\n",
       "\n",
       "      <script>\n",
       "        async function quickchart(key) {\n",
       "          const quickchartButtonEl =\n",
       "            document.querySelector('#' + key + ' button');\n",
       "          quickchartButtonEl.disabled = true;  // To prevent multiple clicks.\n",
       "          quickchartButtonEl.classList.add('colab-df-spinner');\n",
       "          try {\n",
       "            const charts = await google.colab.kernel.invokeFunction(\n",
       "                'suggestCharts', [key], {});\n",
       "          } catch (error) {\n",
       "            console.error('Error during call to suggestCharts:', error);\n",
       "          }\n",
       "          quickchartButtonEl.classList.remove('colab-df-spinner');\n",
       "          quickchartButtonEl.classList.add('colab-df-quickchart-complete');\n",
       "        }\n",
       "        (() => {\n",
       "          let quickchartButtonEl =\n",
       "            document.querySelector('#df-4350f2f8-cfa6-464b-8240-b2c5ac8c9c69 button');\n",
       "          quickchartButtonEl.style.display =\n",
       "            google.colab.kernel.accessAllowed ? 'block' : 'none';\n",
       "        })();\n",
       "      </script>\n",
       "    </div>\n",
       "\n",
       "    </div>\n",
       "  </div>\n"
      ],
      "text/plain": [
       "    Name   Age   City  Score\n",
       "0    Ali  25.0  Cairo   88.0\n",
       "1   Sara  30.0   Alex   92.0\n",
       "2   Omar  22.0   Giza    NaN\n",
       "3  Laila   NaN  Cairo   70.0\n",
       "4   John  28.0   Alex   85.0"
      ]
     },
     "execution_count": 10,
     "metadata": {},
     "output_type": "execute_result"
    }
   ],
   "source": [
    "df.tail()"
   ]
  },
  {
   "cell_type": "code",
   "execution_count": 11,
   "metadata": {
    "colab": {
     "base_uri": "https://localhost:8080/"
    },
    "id": "s85l9bx6X0jN",
    "outputId": "8e621bf4-fd2f-46ce-ed84-fb1d45c618b0"
   },
   "outputs": [
    {
     "name": "stdout",
     "output_type": "stream",
     "text": [
      "3. Info:\n",
      "<class 'pandas.core.frame.DataFrame'>\n",
      "RangeIndex: 5 entries, 0 to 4\n",
      "Data columns (total 4 columns):\n",
      " #   Column  Non-Null Count  Dtype  \n",
      "---  ------  --------------  -----  \n",
      " 0   Name    5 non-null      object \n",
      " 1   Age     4 non-null      float64\n",
      " 2   City    5 non-null      object \n",
      " 3   Score   4 non-null      float64\n",
      "dtypes: float64(2), object(2)\n",
      "memory usage: 292.0+ bytes\n",
      "\n",
      "\n"
     ]
    }
   ],
   "source": [
    "# 3. Info\n",
    "print(\"3. Info:\")\n",
    "df.info()\n",
    "print(\"\\n\")"
   ]
  },
  {
   "cell_type": "code",
   "execution_count": 12,
   "metadata": {
    "colab": {
     "base_uri": "https://localhost:8080/"
    },
    "id": "SpLvcwYTYD7J",
    "outputId": "ef212b88-7067-4498-c63e-e095457fd293"
   },
   "outputs": [
    {
     "name": "stdout",
     "output_type": "stream",
     "text": [
      "4. Describe:\n",
      "          Age      Score\n",
      "count   4.00   4.000000\n",
      "mean   26.25  83.750000\n",
      "std     3.50   9.604686\n",
      "min    22.00  70.000000\n",
      "25%    24.25  81.250000\n",
      "50%    26.50  86.500000\n",
      "75%    28.50  89.000000\n",
      "max    30.00  92.000000 \n",
      "\n"
     ]
    }
   ],
   "source": [
    "# 4. Describe\n",
    "print(\"4. Describe:\\n\", df.describe(), \"\\n\")"
   ]
  },
  {
   "cell_type": "code",
   "execution_count": 13,
   "metadata": {
    "colab": {
     "base_uri": "https://localhost:8080/"
    },
    "id": "oecVZa3cYMXu",
    "outputId": "0ee6db36-0b7a-409d-9965-32ff3fc552f9"
   },
   "outputs": [
    {
     "name": "stdout",
     "output_type": "stream",
     "text": [
      "5. Column 'Name':\n",
      " 0      Ali\n",
      "1     Sara\n",
      "2     Omar\n",
      "3    Laila\n",
      "4     John\n",
      "Name: Name, dtype: object \n",
      "\n"
     ]
    }
   ],
   "source": [
    "# 5. Select Column\n",
    "print(\"5. Column 'Name':\\n\", df[\"Name\"], \"\\n\")"
   ]
  },
  {
   "cell_type": "code",
   "execution_count": 14,
   "metadata": {
    "colab": {
     "base_uri": "https://localhost:8080/"
    },
    "id": "hGDpQmHMYP80",
    "outputId": "f58ad3aa-4c90-411e-84f0-5df3edcde01d"
   },
   "outputs": [
    {
     "name": "stdout",
     "output_type": "stream",
     "text": [
      "6. Row index 1:\n",
      " Name     Sara\n",
      "Age      30.0\n",
      "City     Alex\n",
      "Score    92.0\n",
      "Name: 1, dtype: object \n",
      "\n"
     ]
    }
   ],
   "source": [
    "# 6. Select Row\n",
    "print(\"6. Row index 1:\\n\", df.iloc[1], \"\\n\")"
   ]
  },
  {
   "cell_type": "code",
   "execution_count": 15,
   "metadata": {
    "colab": {
     "base_uri": "https://localhost:8080/"
    },
    "id": "iurBsmAkYP6T",
    "outputId": "8c0ba801-dfc6-4eec-b8cc-bb9caec31f10"
   },
   "outputs": [
    {
     "name": "stdout",
     "output_type": "stream",
     "text": [
      "7. Age > 25:\n",
      "    Name   Age  City  Score\n",
      "1  Sara  30.0  Alex   92.0\n",
      "4  John  28.0  Alex   85.0 \n",
      "\n"
     ]
    }
   ],
   "source": [
    "# 7. Filter Rows\n",
    "print(\"7. Age > 25:\\n\", df[df[\"Age\"] > 25], \"\\n\")"
   ]
  },
  {
   "cell_type": "code",
   "execution_count": 16,
   "metadata": {
    "colab": {
     "base_uri": "https://localhost:8080/"
    },
    "id": "VXL5tkFKYP3w",
    "outputId": "16c44d49-441d-4c48-d0a2-ad18c8a73a49"
   },
   "outputs": [
    {
     "name": "stdout",
     "output_type": "stream",
     "text": [
      "8. After adding 'Passed':\n",
      "     Name   Age   City  Score  Passed\n",
      "0    Ali  25.0  Cairo   88.0    True\n",
      "1   Sara  30.0   Alex   92.0    True\n",
      "2   Omar  22.0   Giza    NaN   False\n",
      "3  Laila   NaN  Cairo   70.0   False\n",
      "4   John  28.0   Alex   85.0    True \n",
      "\n"
     ]
    }
   ],
   "source": [
    "# 8. Add Column\n",
    "df[\"Passed\"] = df[\"Score\"] >= 75\n",
    "print(\"8. After adding 'Passed':\\n\", df, \"\\n\")"
   ]
  },
  {
   "cell_type": "code",
   "execution_count": 17,
   "metadata": {
    "colab": {
     "base_uri": "https://localhost:8080/"
    },
    "id": "MpzukJvFYP1I",
    "outputId": "30539713-580f-4aca-b07c-661b335250c4"
   },
   "outputs": [
    {
     "name": "stdout",
     "output_type": "stream",
     "text": [
      "9. After dropping 'City':\n",
      "     Name   Age  Score  Passed\n",
      "0    Ali  25.0   88.0    True\n",
      "1   Sara  30.0   92.0    True\n",
      "2   Omar  22.0    NaN   False\n",
      "3  Laila   NaN   70.0   False\n",
      "4   John  28.0   85.0    True \n",
      "\n"
     ]
    }
   ],
   "source": [
    "# 9. Drop Column\n",
    "df_dropped = df.drop(\"City\", axis=1)\n",
    "print(\"9. After dropping 'City':\\n\", df_dropped, \"\\n\")"
   ]
  },
  {
   "cell_type": "code",
   "execution_count": 18,
   "metadata": {
    "colab": {
     "base_uri": "https://localhost:8080/"
    },
    "id": "UnVr3kPRYPyf",
    "outputId": "71cc8e8f-a331-4909-95ed-15f65e609342"
   },
   "outputs": [
    {
     "name": "stdout",
     "output_type": "stream",
     "text": [
      "10. Sorted by Age:\n",
      "     Name   Age   City  Score  Passed\n",
      "2   Omar  22.0   Giza    NaN   False\n",
      "0    Ali  25.0  Cairo   88.0    True\n",
      "4   John  28.0   Alex   85.0    True\n",
      "1   Sara  30.0   Alex   92.0    True\n",
      "3  Laila   NaN  Cairo   70.0   False \n",
      "\n"
     ]
    }
   ],
   "source": [
    "# 10. Sort by Age\n",
    "print(\"10. Sorted by Age:\\n\", df.sort_values(\"Age\"), \"\\n\")"
   ]
  },
  {
   "cell_type": "code",
   "execution_count": 19,
   "metadata": {
    "colab": {
     "base_uri": "https://localhost:8080/"
    },
    "id": "d14tl45eYPv9",
    "outputId": "5114583d-3540-40c4-86f7-09e03c71089a"
   },
   "outputs": [
    {
     "name": "stdout",
     "output_type": "stream",
     "text": [
      "11. GroupBy City mean Score:\n",
      " City\n",
      "Alex     88.5\n",
      "Cairo    79.0\n",
      "Giza      NaN\n",
      "Name: Score, dtype: float64 \n",
      "\n"
     ]
    }
   ],
   "source": [
    "# 11. GroupBy\n",
    "print(\"11. GroupBy City mean Score:\\n\", df.groupby(\"City\")[\"Score\"].mean(), \"\\n\")"
   ]
  },
  {
   "cell_type": "code",
   "execution_count": 20,
   "metadata": {
    "colab": {
     "base_uri": "https://localhost:8080/"
    },
    "id": "nI9lXJIBYPtd",
    "outputId": "d58c6050-595c-4275-f11f-4344b5b5e14a"
   },
   "outputs": [
    {
     "name": "stdout",
     "output_type": "stream",
     "text": [
      "12. Missing Values:\n",
      " Name      0\n",
      "Age       1\n",
      "City      0\n",
      "Score     1\n",
      "Passed    0\n",
      "dtype: int64 \n",
      "\n"
     ]
    }
   ],
   "source": [
    "# 12. Missing Values\n",
    "print(\"12. Missing Values:\\n\", df.isnull().sum(), \"\\n\")"
   ]
  },
  {
   "cell_type": "code",
   "execution_count": 21,
   "metadata": {
    "colab": {
     "base_uri": "https://localhost:8080/"
    },
    "id": "l1mZrnSqYPrH",
    "outputId": "8f135e6c-a56d-4edc-dc57-ea1b69776868"
   },
   "outputs": [
    {
     "name": "stdout",
     "output_type": "stream",
     "text": [
      "13. Fill NA:\n",
      "     Name   Age   City  Score  Passed\n",
      "0    Ali  25.0  Cairo   88.0    True\n",
      "1   Sara  30.0   Alex   92.0    True\n",
      "2   Omar  22.0   Giza    0.0   False\n",
      "3  Laila   0.0  Cairo   70.0   False\n",
      "4   John  28.0   Alex   85.0    True \n",
      "\n"
     ]
    }
   ],
   "source": [
    "# 13. Fillna\n",
    "print(\"13. Fill NA:\\n\", df.fillna(0), \"\\n\")"
   ]
  },
  {
   "cell_type": "code",
   "execution_count": 22,
   "metadata": {
    "colab": {
     "base_uri": "https://localhost:8080/"
    },
    "id": "JXeD9e4MYPoP",
    "outputId": "c962889f-5fda-4522-b634-910a7f0168f1"
   },
   "outputs": [
    {
     "name": "stdout",
     "output_type": "stream",
     "text": [
      "14. Drop NA:\n",
      "    Name   Age   City  Score  Passed\n",
      "0   Ali  25.0  Cairo   88.0    True\n",
      "1  Sara  30.0   Alex   92.0    True\n",
      "4  John  28.0   Alex   85.0    True \n",
      "\n"
     ]
    }
   ],
   "source": [
    "# 14. Dropna\n",
    "print(\"14. Drop NA:\\n\", df.dropna(), \"\\n\")"
   ]
  },
  {
   "cell_type": "code",
   "execution_count": 23,
   "metadata": {
    "colab": {
     "base_uri": "https://localhost:8080/"
    },
    "id": "rmismuasYPmF",
    "outputId": "61075734-669a-4ffc-f64b-c3f5744b59b7"
   },
   "outputs": [
    {
     "name": "stdout",
     "output_type": "stream",
     "text": [
      "15. Age x2:\n",
      " 0    50.0\n",
      "1    60.0\n",
      "2    44.0\n",
      "3     NaN\n",
      "4    56.0\n",
      "Name: Age, dtype: float64 \n",
      "\n"
     ]
    }
   ],
   "source": [
    "# 15. Apply Function\n",
    "print(\"15. Age x2:\\n\", df[\"Age\"].apply(lambda x: x * 2 if pd.notna(x) else x), \"\\n\")"
   ]
  },
  {
   "cell_type": "code",
   "execution_count": 24,
   "metadata": {
    "colab": {
     "base_uri": "https://localhost:8080/"
    },
    "id": "qw6VYukCYPjU",
    "outputId": "cd7bd32d-2937-4b40-e339-0e146ba58b4d"
   },
   "outputs": [
    {
     "name": "stdout",
     "output_type": "stream",
     "text": [
      "16. Rename columns:\n",
      "   FullName   Age   City  ExamScore  Passed\n",
      "0      Ali  25.0  Cairo       88.0    True\n",
      "1     Sara  30.0   Alex       92.0    True\n",
      "2     Omar  22.0   Giza        NaN   False\n",
      "3    Laila   NaN  Cairo       70.0   False\n",
      "4     John  28.0   Alex       85.0    True \n",
      "\n"
     ]
    }
   ],
   "source": [
    "# 16. Rename Columns\n",
    "print(\"16. Rename columns:\\n\", df.rename(columns={\"Name\": \"FullName\", \"Score\": \"ExamScore\"}), \"\\n\")"
   ]
  },
  {
   "cell_type": "code",
   "execution_count": 25,
   "metadata": {
    "colab": {
     "base_uri": "https://localhost:8080/"
    },
    "id": "6MxNQAOJYbed",
    "outputId": "c8a693c7-19c0-4e0c-d785-41bd37c90e25"
   },
   "outputs": [
    {
     "name": "stdout",
     "output_type": "stream",
     "text": [
      "17. Reset index:\n",
      "     Name   Age   City  Score  Passed\n",
      "0    Ali  25.0  Cairo   88.0    True\n",
      "1   Sara  30.0   Alex   92.0    True\n",
      "2   Omar  22.0   Giza    NaN   False\n",
      "3  Laila   NaN  Cairo   70.0   False\n",
      "4   John  28.0   Alex   85.0    True \n",
      "\n"
     ]
    }
   ],
   "source": [
    "# 17. Reset Index\n",
    "print(\"17. Reset index:\\n\", df.reset_index(drop=True), \"\\n\")"
   ]
  },
  {
   "cell_type": "code",
   "execution_count": 26,
   "metadata": {
    "colab": {
     "base_uri": "https://localhost:8080/"
    },
    "id": "-otvmsJKYbdT",
    "outputId": "78ff3691-bed5-4578-b7bf-9e1ead35060c"
   },
   "outputs": [
    {
     "name": "stdout",
     "output_type": "stream",
     "text": [
      "18. Set index to 'Name':\n",
      "         Age   City  Score  Passed\n",
      "Name                             \n",
      "Ali    25.0  Cairo   88.0    True\n",
      "Sara   30.0   Alex   92.0    True\n",
      "Omar   22.0   Giza    NaN   False\n",
      "Laila   NaN  Cairo   70.0   False\n",
      "John   28.0   Alex   85.0    True \n",
      "\n"
     ]
    }
   ],
   "source": [
    "# 18. Set Index\n",
    "print(\"18. Set index to 'Name':\\n\", df.set_index(\"Name\"), \"\\n\")"
   ]
  },
  {
   "cell_type": "code",
   "execution_count": 27,
   "metadata": {
    "colab": {
     "base_uri": "https://localhost:8080/"
    },
    "id": "lWGgodTyYbVU",
    "outputId": "28e2f5d6-6fec-4255-a494-44bebd0137f4"
   },
   "outputs": [
    {
     "name": "stdout",
     "output_type": "stream",
     "text": [
      "19. Merge:\n",
      "     Name   Age Dept\n",
      "0    Ali  25.0   IT\n",
      "1   Sara  30.0   HR\n",
      "2   Omar  22.0  NaN\n",
      "3  Laila   NaN  NaN\n",
      "4   John  28.0  NaN \n",
      "\n"
     ]
    }
   ],
   "source": [
    "# 19. Merge\n",
    "df2 = pd.DataFrame({\"Name\": [\"Ali\", \"Sara\"], \"Dept\": [\"IT\", \"HR\"]})\n",
    "merged = pd.merge(df[[\"Name\", \"Age\"]], df2, on=\"Name\", how=\"left\")\n",
    "print(\"19. Merge:\\n\", merged, \"\\n\")"
   ]
  },
  {
   "cell_type": "code",
   "execution_count": 28,
   "metadata": {
    "colab": {
     "base_uri": "https://localhost:8080/"
    },
    "id": "L7Goa__cYbSs",
    "outputId": "fa213fa6-778d-4849-e6e7-eee7e550c9be"
   },
   "outputs": [
    {
     "name": "stdout",
     "output_type": "stream",
     "text": [
      "20. Concat first 2 + last 2:\n",
      "     Name   Age   City  Score  Passed\n",
      "0    Ali  25.0  Cairo   88.0    True\n",
      "1   Sara  30.0   Alex   92.0    True\n",
      "3  Laila   NaN  Cairo   70.0   False\n",
      "4   John  28.0   Alex   85.0    True \n",
      "\n"
     ]
    }
   ],
   "source": [
    "# 20. Concat\n",
    "print(\"20. Concat first 2 + last 2:\\n\", pd.concat([df.head(2), df.tail(2)]), \"\\n\")"
   ]
  },
  {
   "cell_type": "code",
   "execution_count": 29,
   "metadata": {
    "colab": {
     "base_uri": "https://localhost:8080/"
    },
    "id": "nm4rWtjiYbQN",
    "outputId": "236eccc8-9537-439d-b187-ccea8c066a24"
   },
   "outputs": [
    {
     "name": "stdout",
     "output_type": "stream",
     "text": [
      "21. Exported to demo.csv\n",
      "\n"
     ]
    }
   ],
   "source": [
    "# 21. Export to CSV\n",
    "df.to_csv(\"demo.csv\", index=False)\n",
    "print(\"21. Exported to demo.csv\\n\")"
   ]
  },
  {
   "cell_type": "code",
   "execution_count": null,
   "metadata": {
    "id": "t5C828ViYbNt"
   },
   "outputs": [],
   "source": []
  }
 ],
 "metadata": {
  "colab": {
   "provenance": []
  },
  "kernelspec": {
   "display_name": "Python 3 (ipykernel)",
   "language": "python",
   "name": "python3"
  },
  "language_info": {
   "codemirror_mode": {
    "name": "ipython",
    "version": 3
   },
   "file_extension": ".py",
   "mimetype": "text/x-python",
   "name": "python",
   "nbconvert_exporter": "python",
   "pygments_lexer": "ipython3",
   "version": "3.12.5"
  }
 },
 "nbformat": 4,
 "nbformat_minor": 4
}
