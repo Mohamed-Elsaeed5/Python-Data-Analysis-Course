{
  "nbformat": 4,
  "nbformat_minor": 0,
  "metadata": {
    "colab": {
      "provenance": []
    },
    "kernelspec": {
      "name": "python3",
      "display_name": "Python 3"
    },
    "language_info": {
      "name": "python"
    }
  },
  "cells": [
    {
      "cell_type": "markdown",
      "source": [
        "# Python map, filter, apply, file handling, and re (regex)\n"
      ],
      "metadata": {
        "id": "v40a7fcdThXq"
      }
    },
    {
      "cell_type": "code",
      "execution_count": 1,
      "metadata": {
        "colab": {
          "base_uri": "https://localhost:8080/"
        },
        "id": "IgEpZVazTd-A",
        "outputId": "c1ac115d-aabf-4d4f-c3d3-19c7bcd35949"
      },
      "outputs": [
        {
          "output_type": "stream",
          "name": "stdout",
          "text": [
            "Squares using map: [1, 4, 9, 16]\n"
          ]
        }
      ],
      "source": [
        "# 1. map(): apply a function to all elements\n",
        "nums = [1, 2, 3, 4]\n",
        "squares = list(map(lambda x: x**2, nums))\n",
        "print(\"Squares using map:\", squares)"
      ]
    },
    {
      "cell_type": "code",
      "source": [
        "# 2. filter(): filter elements based on a condition\n",
        "even = list(filter(lambda x: x % 2 == 0, nums))\n",
        "print(\"Even numbers using filter:\", even)"
      ],
      "metadata": {
        "colab": {
          "base_uri": "https://localhost:8080/"
        },
        "id": "6mrGr2-qTtXk",
        "outputId": "25b3d100-0493-4658-b4fd-c0b131b6c1e3"
      },
      "execution_count": 2,
      "outputs": [
        {
          "output_type": "stream",
          "name": "stdout",
          "text": [
            "Even numbers using filter: [2, 4]\n"
          ]
        }
      ]
    },
    {
      "cell_type": "code",
      "source": [
        "# 3. apply(): used with pandas to apply function to Series or DataFrame\n",
        "import pandas as pd\n",
        "\n",
        "df = pd.DataFrame({\n",
        "    \"Name\": [\"Ali\", \"Sara\", \"Omar\"],\n",
        "    \"Score\": [80, 90, 70]\n",
        "})\n",
        "\n",
        "# Apply function to 'Score' column\n",
        "df[\"Passed\"] = df[\"Score\"].apply(lambda x: \"Yes\" if x >= 75 else \"No\")\n",
        "print(\"\\nDataFrame with apply:\\n\", df)"
      ],
      "metadata": {
        "colab": {
          "base_uri": "https://localhost:8080/"
        },
        "id": "m2N6luDfTtU8",
        "outputId": "f2042721-2b23-4100-9e74-28dd81b0bff3"
      },
      "execution_count": 3,
      "outputs": [
        {
          "output_type": "stream",
          "name": "stdout",
          "text": [
            "\n",
            "DataFrame with apply:\n",
            "    Name  Score Passed\n",
            "0   Ali     80    Yes\n",
            "1  Sara     90    Yes\n",
            "2  Omar     70     No\n"
          ]
        }
      ]
    },
    {
      "cell_type": "code",
      "source": [
        "# 4. File handling: open, read, close\n",
        "# Writing a sample file\n",
        "with open(\"sample.txt\", \"w\") as f:\n",
        "    f.write(\"Hello\\nWelcome to Python\\n123 apple\")\n",
        "\n",
        "# Reading the file\n",
        "with open(\"sample.txt\", \"r\") as f:\n",
        "    content = f.read()\n",
        "    print(\"\\nFile content:\\n\", content)"
      ],
      "metadata": {
        "colab": {
          "base_uri": "https://localhost:8080/"
        },
        "id": "5DqowzCjTtSa",
        "outputId": "221bb6e6-20ca-4c5a-a7e4-7cba030840ea"
      },
      "execution_count": 4,
      "outputs": [
        {
          "output_type": "stream",
          "name": "stdout",
          "text": [
            "\n",
            "File content:\n",
            " Hello\n",
            "Welcome to Python\n",
            "123 apple\n"
          ]
        }
      ]
    },
    {
      "cell_type": "code",
      "source": [
        "# 5. re module (regex) - extract, search, and replace\n",
        "import re\n",
        "\n",
        "text = \"My email is test123@example.com and phone is 010-123-4567.\"\n",
        "\n",
        "# Find email\n",
        "email = re.findall(r\"\\b[\\w.-]+@[\\w.-]+\\.\\w+\\b\", text)\n",
        "print(\"\\nExtracted email:\", email)"
      ],
      "metadata": {
        "colab": {
          "base_uri": "https://localhost:8080/"
        },
        "id": "EuJ0SuA_TtP1",
        "outputId": "8a953c51-e2d6-405c-b28c-47bccff8af1a"
      },
      "execution_count": 5,
      "outputs": [
        {
          "output_type": "stream",
          "name": "stdout",
          "text": [
            "\n",
            "Extracted email: ['test123@example.com']\n"
          ]
        }
      ]
    },
    {
      "cell_type": "code",
      "source": [
        "# Search for phone pattern\n",
        "phone = re.search(r\"\\d{3}-\\d{3}-\\d{4}\", text)\n",
        "if phone:\n",
        "    print(\"Phone found:\", phone.group())"
      ],
      "metadata": {
        "colab": {
          "base_uri": "https://localhost:8080/"
        },
        "id": "Fmlms5BQTtNc",
        "outputId": "2aa6c45f-5e62-4bd7-d8a1-b2c3b67146d5"
      },
      "execution_count": 6,
      "outputs": [
        {
          "output_type": "stream",
          "name": "stdout",
          "text": [
            "Phone found: 010-123-4567\n"
          ]
        }
      ]
    },
    {
      "cell_type": "code",
      "source": [
        "# Replace email with hidden\n",
        "hidden = re.sub(r\"[\\w.-]+@[\\w.-]+\\.\\w+\", \"[hidden email]\", text)\n",
        "print(\"After replace:\\n\", hidden)"
      ],
      "metadata": {
        "colab": {
          "base_uri": "https://localhost:8080/"
        },
        "id": "OKzSy1p8TtLD",
        "outputId": "d15248f5-5133-4198-c5e1-02fe1a033c81"
      },
      "execution_count": 7,
      "outputs": [
        {
          "output_type": "stream",
          "name": "stdout",
          "text": [
            "After replace:\n",
            " My email is [hidden email] and phone is 010-123-4567.\n"
          ]
        }
      ]
    },
    {
      "cell_type": "code",
      "source": [],
      "metadata": {
        "id": "Ki2cKx1mTtB5"
      },
      "execution_count": 7,
      "outputs": []
    }
  ]
}