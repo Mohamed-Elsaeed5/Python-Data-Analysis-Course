{
  "nbformat": 4,
  "nbformat_minor": 0,
  "metadata": {
    "colab": {
      "provenance": []
    },
    "kernelspec": {
      "name": "python3",
      "display_name": "Python 3"
    },
    "language_info": {
      "name": "python"
    }
  },
  "cells": [
    {
      "cell_type": "markdown",
      "source": [
        "# Python Functions - Definition, Arguments, Return, and Types\n"
      ],
      "metadata": {
        "id": "vNqy64GXOYLR"
      }
    },
    {
      "cell_type": "code",
      "execution_count": 1,
      "metadata": {
        "colab": {
          "base_uri": "https://localhost:8080/"
        },
        "id": "Ou1aT8r9OWpX",
        "outputId": "a77b2942-4b73-4678-fb8b-ced2ff906a5c"
      },
      "outputs": [
        {
          "output_type": "stream",
          "name": "stdout",
          "text": [
            "Hello!\n"
          ]
        }
      ],
      "source": [
        "# 1. Basic function (no parameters)\n",
        "def greet():\n",
        "    print(\"Hello!\")\n",
        "greet()"
      ]
    },
    {
      "cell_type": "code",
      "source": [
        "# 2. Function with parameters\n",
        "def welcome(name):\n",
        "    print(\"Welcome,\", name)\n",
        "\n",
        "welcome(\"Ali\")"
      ],
      "metadata": {
        "colab": {
          "base_uri": "https://localhost:8080/"
        },
        "id": "SLA9_koIPvvT",
        "outputId": "b173d4a8-aee2-4e8b-a4ab-c330b04fce75"
      },
      "execution_count": 2,
      "outputs": [
        {
          "output_type": "stream",
          "name": "stdout",
          "text": [
            "Welcome, Ali\n"
          ]
        }
      ]
    },
    {
      "cell_type": "code",
      "source": [
        "# 3. Function with return value\n",
        "def add(a, b):\n",
        "    return a + b\n",
        "\n",
        "result = add(3, 5)\n",
        "print(\"Sum:\", result)"
      ],
      "metadata": {
        "colab": {
          "base_uri": "https://localhost:8080/"
        },
        "id": "u7iguVuCPvsm",
        "outputId": "c8cbd587-f143-4479-e5ba-d1576f9d92c0"
      },
      "execution_count": 3,
      "outputs": [
        {
          "output_type": "stream",
          "name": "stdout",
          "text": [
            "Sum: 8\n"
          ]
        }
      ]
    },
    {
      "cell_type": "code",
      "source": [
        "# 4. Function with default parameter\n",
        "def power(base, exponent=2):\n",
        "    return base ** exponent\n",
        "\n",
        "print(\"power(4):\", power(4))       # 4^2 = 16\n",
        "print(\"power(2, 3):\", power(2, 3)) # 2^3 = 8"
      ],
      "metadata": {
        "colab": {
          "base_uri": "https://localhost:8080/"
        },
        "id": "0dL9PAbwPvqS",
        "outputId": "6e984274-e111-45af-e1fd-5645f7ccf59d"
      },
      "execution_count": 4,
      "outputs": [
        {
          "output_type": "stream",
          "name": "stdout",
          "text": [
            "power(4): 16\n",
            "power(2, 3): 8\n"
          ]
        }
      ]
    },
    {
      "cell_type": "code",
      "source": [
        "# 5. Function with keyword arguments\n",
        "def info(name, age):\n",
        "    print(f\"Name: {name}, Age: {age}\")\n",
        "\n",
        "info(age=30, name=\"Sara\")"
      ],
      "metadata": {
        "colab": {
          "base_uri": "https://localhost:8080/"
        },
        "id": "-qTFuZiFPvnt",
        "outputId": "1e887448-6004-4597-9cd2-5be30fcd265d"
      },
      "execution_count": 5,
      "outputs": [
        {
          "output_type": "stream",
          "name": "stdout",
          "text": [
            "Name: Sara, Age: 30\n"
          ]
        }
      ]
    },
    {
      "cell_type": "code",
      "source": [
        "# 6. Function with *args (multiple arguments)\n",
        "def total_sum(*args):\n",
        "    return sum(args)\n",
        "\n",
        "print(\"Total:\", total_sum(1, 2, 3, 4))"
      ],
      "metadata": {
        "colab": {
          "base_uri": "https://localhost:8080/"
        },
        "id": "90SYxXFoPvlS",
        "outputId": "1a7cee63-1fb7-4e09-87e9-dab41db1abea"
      },
      "execution_count": 6,
      "outputs": [
        {
          "output_type": "stream",
          "name": "stdout",
          "text": [
            "Total: 10\n"
          ]
        }
      ]
    },
    {
      "cell_type": "code",
      "source": [
        "# 7. Function with **kwargs (keyword arguments)\n",
        "def print_info(**kwargs):\n",
        "    for key, value in kwargs.items():\n",
        "        print(f\"{key}: {value}\")"
      ],
      "metadata": {
        "id": "Ub7PG_nrPvjT"
      },
      "execution_count": 7,
      "outputs": []
    },
    {
      "cell_type": "code",
      "source": [
        "# 8. Nested function\n",
        "def outer():\n",
        "    def inner():\n",
        "        print(\"Inner function\")\n",
        "    inner()\n",
        "\n",
        "outer()"
      ],
      "metadata": {
        "colab": {
          "base_uri": "https://localhost:8080/"
        },
        "id": "oZWVOGmQPvgF",
        "outputId": "14512659-d27d-4ff0-b41b-3457d54764f4"
      },
      "execution_count": 8,
      "outputs": [
        {
          "output_type": "stream",
          "name": "stdout",
          "text": [
            "Inner function\n"
          ]
        }
      ]
    },
    {
      "cell_type": "code",
      "source": [
        "# 9. Lambda (anonymous) function\n",
        "square = lambda x: x * x\n",
        "print(\"Square of 5:\", square(5))"
      ],
      "metadata": {
        "colab": {
          "base_uri": "https://localhost:8080/"
        },
        "id": "96nqNgg7PvdS",
        "outputId": "05c6a91a-b3dc-477b-dab3-07dd87fa6746"
      },
      "execution_count": 9,
      "outputs": [
        {
          "output_type": "stream",
          "name": "stdout",
          "text": [
            "Square of 5: 25\n"
          ]
        }
      ]
    }
  ]
}