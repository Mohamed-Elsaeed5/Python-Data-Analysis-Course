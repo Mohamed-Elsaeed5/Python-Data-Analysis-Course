{
  "nbformat": 4,
  "nbformat_minor": 0,
  "metadata": {
    "colab": {
      "provenance": []
    },
    "kernelspec": {
      "name": "python3",
      "display_name": "Python 3"
    },
    "language_info": {
      "name": "python"
    }
  },
  "cells": [
    {
      "cell_type": "code",
      "execution_count": 2,
      "metadata": {
        "colab": {
          "base_uri": "https://localhost:8080/"
        },
        "id": "1VikENGC3MaD",
        "outputId": "63932fe1-df84-43d9-9241-0e3991be13d6"
      },
      "outputs": [
        {
          "output_type": "stream",
          "name": "stdout",
          "text": [
            "Integer: 10 | Type: <class 'int'>\n"
          ]
        }
      ],
      "source": [
        "# 1. Integer (int)\n",
        "a = 10\n",
        "print(\"Integer:\", a, \"| Type:\", type(a))"
      ]
    },
    {
      "cell_type": "code",
      "source": [
        "# 2. Float (float)\n",
        "b = 3.14\n",
        "print(\"Float:\", b, \"| Type:\", type(b))"
      ],
      "metadata": {
        "colab": {
          "base_uri": "https://localhost:8080/"
        },
        "id": "QXxz96wS32R0",
        "outputId": "ca3f6e2c-bb34-4f79-d481-5d394c451096"
      },
      "execution_count": 3,
      "outputs": [
        {
          "output_type": "stream",
          "name": "stdout",
          "text": [
            "Float: 3.14 | Type: <class 'float'>\n"
          ]
        }
      ]
    },
    {
      "cell_type": "code",
      "source": [
        "# 3. String (str)\n",
        "c = \"Hello\"\n",
        "print(\"String:\", c, \"| Type:\", type(c))"
      ],
      "metadata": {
        "colab": {
          "base_uri": "https://localhost:8080/"
        },
        "id": "WrPUvlFD34hb",
        "outputId": "a3e6b3b8-283a-4e56-d1fc-6fdf14825918"
      },
      "execution_count": 4,
      "outputs": [
        {
          "output_type": "stream",
          "name": "stdout",
          "text": [
            "String: Hello | Type: <class 'str'>\n"
          ]
        }
      ]
    },
    {
      "cell_type": "code",
      "source": [
        "# 4. Boolean (bool)\n",
        "d = True\n",
        "print(\"Boolean:\", d, \"| Type:\", type(d))"
      ],
      "metadata": {
        "colab": {
          "base_uri": "https://localhost:8080/"
        },
        "id": "-vjpLwGX36PZ",
        "outputId": "0310d258-885f-4913-d2fa-d942c028760c"
      },
      "execution_count": 5,
      "outputs": [
        {
          "output_type": "stream",
          "name": "stdout",
          "text": [
            "Boolean: True | Type: <class 'bool'>\n"
          ]
        }
      ]
    },
    {
      "cell_type": "code",
      "source": [
        "# 5. List (ordered, mutable)\n",
        "e = [1, 2, 3, \"apple\"]\n",
        "print(\"List:\", e, \"| Type:\", type(e))"
      ],
      "metadata": {
        "colab": {
          "base_uri": "https://localhost:8080/"
        },
        "id": "LpNTIVN136Nv",
        "outputId": "aa5351d1-f408-4209-f344-1b6825507368"
      },
      "execution_count": 6,
      "outputs": [
        {
          "output_type": "stream",
          "name": "stdout",
          "text": [
            "List: [1, 2, 3, 'apple'] | Type: <class 'list'>\n"
          ]
        }
      ]
    },
    {
      "cell_type": "code",
      "source": [
        "# 6. Tuple (ordered, immutable)\n",
        "f = (1, 2, 3)\n",
        "print(\"Tuple:\", f, \"| Type:\", type(f))"
      ],
      "metadata": {
        "colab": {
          "base_uri": "https://localhost:8080/"
        },
        "id": "s_5uqOKA36MF",
        "outputId": "535c2a03-47a2-4cbb-e9b1-05e69c8b7aad"
      },
      "execution_count": 7,
      "outputs": [
        {
          "output_type": "stream",
          "name": "stdout",
          "text": [
            "Tuple: (1, 2, 3) | Type: <class 'tuple'>\n"
          ]
        }
      ]
    },
    {
      "cell_type": "code",
      "source": [
        "# 7. Set (unordered, unique values)\n",
        "g = {1, 2, 2, 3}\n",
        "print(\"Set:\", g, \"| Type:\", type(g))"
      ],
      "metadata": {
        "colab": {
          "base_uri": "https://localhost:8080/"
        },
        "id": "1XGVgBXU36Jr",
        "outputId": "e3d62179-5151-46e4-e8db-7f605563a128"
      },
      "execution_count": 8,
      "outputs": [
        {
          "output_type": "stream",
          "name": "stdout",
          "text": [
            "Set: {1, 2, 3} | Type: <class 'set'>\n"
          ]
        }
      ]
    },
    {
      "cell_type": "code",
      "source": [
        "# 8. Dictionary (key-value pairs)\n",
        "h = {\"name\": \"Alice\", \"age\": 30}\n",
        "print(\"Dictionary:\", h, \"| Type:\", type(h))"
      ],
      "metadata": {
        "colab": {
          "base_uri": "https://localhost:8080/"
        },
        "id": "ZRcdHxGQ3-cs",
        "outputId": "cf0c0152-cc59-40bc-a2a0-cc55a620a67f"
      },
      "execution_count": 9,
      "outputs": [
        {
          "output_type": "stream",
          "name": "stdout",
          "text": [
            "Dictionary: {'name': 'Alice', 'age': 30} | Type: <class 'dict'>\n"
          ]
        }
      ]
    },
    {
      "cell_type": "code",
      "source": [
        "# 9. NoneType (null value)\n",
        "i = None\n",
        "print(\"NoneType:\", i, \"| Type:\", type(i))"
      ],
      "metadata": {
        "colab": {
          "base_uri": "https://localhost:8080/"
        },
        "id": "L6ItaBJS358F",
        "outputId": "af638fc2-7015-48c7-ba98-d975eb1b4d41"
      },
      "execution_count": 10,
      "outputs": [
        {
          "output_type": "stream",
          "name": "stdout",
          "text": [
            "NoneType: None | Type: <class 'NoneType'>\n"
          ]
        }
      ]
    },
    {
      "cell_type": "code",
      "source": [
        "# Extra: Complex Number\n",
        "j = 2 + 3j\n",
        "print(\"Complex Number:\", j, \"| Type:\", type(j))"
      ],
      "metadata": {
        "colab": {
          "base_uri": "https://localhost:8080/"
        },
        "id": "3IB7oub735zI",
        "outputId": "a9f3b423-501b-49e7-dea1-43f86077e144"
      },
      "execution_count": 11,
      "outputs": [
        {
          "output_type": "stream",
          "name": "stdout",
          "text": [
            "Complex Number: (2+3j) | Type: <class 'complex'>\n"
          ]
        }
      ]
    },
    {
      "cell_type": "code",
      "source": [
        "# Python Data Types and Type Conversion\n",
        "print(\"int to float:\", float(a))     # 10 -> 10.0\n",
        "\n",
        "# float to int\n",
        "print(\"float to int:\", int(b))       # 3.5 -> 3 (truncates)\n",
        "\n",
        "# int to string\n",
        "print(\"int to str:\", str(a))         # 10 -> \"10\""
      ],
      "metadata": {
        "colab": {
          "base_uri": "https://localhost:8080/"
        },
        "id": "lv3PWEeD4wW7",
        "outputId": "c82f6997-143f-4ca8-f774-32bd6e337418"
      },
      "execution_count": 12,
      "outputs": [
        {
          "output_type": "stream",
          "name": "stdout",
          "text": [
            "int to float: 10.0\n",
            "float to int: 3\n",
            "int to str: 10\n"
          ]
        }
      ]
    },
    {
      "cell_type": "code",
      "source": [],
      "metadata": {
        "id": "M4_P163K4z5v"
      },
      "execution_count": 12,
      "outputs": []
    }
  ]
}