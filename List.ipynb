{
  "nbformat": 4,
  "nbformat_minor": 0,
  "metadata": {
    "colab": {
      "provenance": []
    },
    "kernelspec": {
      "name": "python3",
      "display_name": "Python 3"
    },
    "language_info": {
      "name": "python"
    }
  },
  "cells": [
    {
      "cell_type": "markdown",
      "source": [
        "# Python Lists - Creation, Access, Update, Methods, and Advanced Tips\n"
      ],
      "metadata": {
        "id": "o7tf7rFVEz6y"
      }
    },
    {
      "cell_type": "code",
      "execution_count": 1,
      "metadata": {
        "colab": {
          "base_uri": "https://localhost:8080/"
        },
        "id": "eyvcE2qCD7w6",
        "outputId": "247689f6-e95c-421a-dfc5-374a8b485177"
      },
      "outputs": [
        {
          "output_type": "stream",
          "name": "stdout",
          "text": [
            "Fruits: ['apple', 'banana', 'mango']\n"
          ]
        }
      ],
      "source": [
        "# 1. Creating a list\n",
        "fruits = [\"apple\", \"banana\", \"mango\"]\n",
        "print(\"Fruits:\", fruits)"
      ]
    },
    {
      "cell_type": "code",
      "source": [
        "# 2. Accessing items by index\n",
        "print(\"First fruit:\", fruits[0])\n",
        "print(\"Last fruit:\", fruits[-1])"
      ],
      "metadata": {
        "colab": {
          "base_uri": "https://localhost:8080/"
        },
        "id": "OuQ5htWSFEyu",
        "outputId": "a24a1d32-2b1e-411a-a1ac-d0b6bc6ac642"
      },
      "execution_count": 2,
      "outputs": [
        {
          "output_type": "stream",
          "name": "stdout",
          "text": [
            "First fruit: apple\n",
            "Last fruit: mango\n"
          ]
        }
      ]
    },
    {
      "cell_type": "code",
      "source": [
        "# 3. Modifying items\n",
        "fruits[1] = \"orange\"\n",
        "print(\"Updated fruits:\", fruits)"
      ],
      "metadata": {
        "colab": {
          "base_uri": "https://localhost:8080/"
        },
        "id": "xcFkcp0BFGXO",
        "outputId": "4e39b291-defc-47bc-c37b-5f48724e5e68"
      },
      "execution_count": 3,
      "outputs": [
        {
          "output_type": "stream",
          "name": "stdout",
          "text": [
            "Updated fruits: ['apple', 'orange', 'mango']\n"
          ]
        }
      ]
    },
    {
      "cell_type": "code",
      "source": [
        "# 4. List Slicing\n",
        "numbers = [10, 20, 30, 40, 50]\n",
        "print(\"All numbers:\", numbers)\n",
        "print(\"First 3:\", numbers[:3])\n",
        "print(\"Last 2:\", numbers[-2:])\n",
        "print(\"Middle:\", numbers[1:4])"
      ],
      "metadata": {
        "colab": {
          "base_uri": "https://localhost:8080/"
        },
        "id": "r9Cy3DmxFHFb",
        "outputId": "27f091bf-dc17-4b10-acd6-88070c455d50"
      },
      "execution_count": 4,
      "outputs": [
        {
          "output_type": "stream",
          "name": "stdout",
          "text": [
            "All numbers: [10, 20, 30, 40, 50]\n",
            "First 3: [10, 20, 30]\n",
            "Last 2: [40, 50]\n",
            "Middle: [20, 30, 40]\n"
          ]
        }
      ]
    },
    {
      "cell_type": "code",
      "source": [
        "# 5. Adding items\n",
        "numbers.append(60)\n",
        "print(\"After append:\", numbers)\n",
        "\n",
        "numbers.insert(2, 25)\n",
        "print(\"After insert:\", numbers)"
      ],
      "metadata": {
        "colab": {
          "base_uri": "https://localhost:8080/"
        },
        "id": "cgt9g9bYFHC_",
        "outputId": "07a566d7-c0fe-44ba-a6a1-dd0c319a4f05"
      },
      "execution_count": 5,
      "outputs": [
        {
          "output_type": "stream",
          "name": "stdout",
          "text": [
            "After append: [10, 20, 30, 40, 50, 60]\n",
            "After insert: [10, 20, 25, 30, 40, 50, 60]\n"
          ]
        }
      ]
    },
    {
      "cell_type": "code",
      "source": [
        "# 6. Removing items\n",
        "numbers.remove(40)         # removes first occurrence of value\n",
        "print(\"After remove:\", numbers)\n",
        "\n",
        "popped = numbers.pop()     # removes last item\n",
        "print(\"Popped:\", popped, \"| List:\", numbers)\n",
        "\n",
        "del numbers[0]             # delete by index\n",
        "print(\"After del:\", numbers)"
      ],
      "metadata": {
        "colab": {
          "base_uri": "https://localhost:8080/"
        },
        "id": "wvlLVrIiFHAi",
        "outputId": "fbe0ae7d-c44c-42dd-d2ea-c2303720e563"
      },
      "execution_count": 6,
      "outputs": [
        {
          "output_type": "stream",
          "name": "stdout",
          "text": [
            "After remove: [10, 20, 25, 30, 50, 60]\n",
            "Popped: 60 | List: [10, 20, 25, 30, 50]\n",
            "After del: [20, 25, 30, 50]\n"
          ]
        }
      ]
    },
    {
      "cell_type": "code",
      "source": [
        "# 7. List functions\n",
        "print(\"Length:\", len(numbers))\n",
        "print(\"Max:\", max(numbers))\n",
        "print(\"Min:\", min(numbers))\n",
        "print(\"Sum:\", sum(numbers))"
      ],
      "metadata": {
        "colab": {
          "base_uri": "https://localhost:8080/"
        },
        "id": "e8kARG1UFG96",
        "outputId": "aef0b211-08fe-496d-89af-2baff83d30b6"
      },
      "execution_count": 7,
      "outputs": [
        {
          "output_type": "stream",
          "name": "stdout",
          "text": [
            "Length: 4\n",
            "Max: 50\n",
            "Min: 20\n",
            "Sum: 125\n"
          ]
        }
      ]
    },
    {
      "cell_type": "code",
      "source": [
        "# 8. Sorting\n",
        "unsorted = [4, 2, 9, 1]\n",
        "unsorted.sort()\n",
        "print(\"Sorted:\", unsorted)\n",
        "\n",
        "unsorted.reverse()\n",
        "print(\"Reversed:\", unsorted)"
      ],
      "metadata": {
        "colab": {
          "base_uri": "https://localhost:8080/"
        },
        "id": "C0rFJFl6FG7c",
        "outputId": "4931e84e-0908-4cde-af3a-6dcb938636d4"
      },
      "execution_count": 8,
      "outputs": [
        {
          "output_type": "stream",
          "name": "stdout",
          "text": [
            "Sorted: [1, 2, 4, 9]\n",
            "Reversed: [9, 4, 2, 1]\n"
          ]
        }
      ]
    },
    {
      "cell_type": "code",
      "source": [
        "# 9. Looping through list\n",
        "for fruit in fruits:\n",
        "    print(\"Fruit:\", fruit)"
      ],
      "metadata": {
        "colab": {
          "base_uri": "https://localhost:8080/"
        },
        "id": "AKr7lofKFG5Q",
        "outputId": "07e1d7d3-4e3a-4f41-ee47-2d912860be3e"
      },
      "execution_count": 9,
      "outputs": [
        {
          "output_type": "stream",
          "name": "stdout",
          "text": [
            "Fruit: apple\n",
            "Fruit: orange\n",
            "Fruit: mango\n"
          ]
        }
      ]
    },
    {
      "cell_type": "code",
      "source": [
        "# 10. List comprehension\n",
        "squares = [x**2 for x in range(5)]\n",
        "print(\"Squares:\", squares)"
      ],
      "metadata": {
        "colab": {
          "base_uri": "https://localhost:8080/"
        },
        "id": "qfdncbJYFG2n",
        "outputId": "dae9fd24-4e16-4b5e-95f2-420a4abc7de4"
      },
      "execution_count": 10,
      "outputs": [
        {
          "output_type": "stream",
          "name": "stdout",
          "text": [
            "Squares: [0, 1, 4, 9, 16]\n"
          ]
        }
      ]
    },
    {
      "cell_type": "code",
      "source": [
        "# 11. Copying a list\n",
        "copy1 = fruits[:]\n",
        "copy2 = fruits.copy()\n",
        "print(\"Copy1:\", copy1, \"| Copy2:\", copy2)"
      ],
      "metadata": {
        "colab": {
          "base_uri": "https://localhost:8080/"
        },
        "id": "istm8T6wFRK3",
        "outputId": "2ef885af-00df-49bc-d45f-20a9125c4751"
      },
      "execution_count": 11,
      "outputs": [
        {
          "output_type": "stream",
          "name": "stdout",
          "text": [
            "Copy1: ['apple', 'orange', 'mango'] | Copy2: ['apple', 'orange', 'mango']\n"
          ]
        }
      ]
    },
    {
      "cell_type": "code",
      "source": [
        "# 12. Nested lists\n",
        "matrix = [[1, 2], [3, 4]]\n",
        "print(\"Element at [1][1]:\", matrix[1][1])"
      ],
      "metadata": {
        "colab": {
          "base_uri": "https://localhost:8080/"
        },
        "id": "Dhl_k1BUFSKf",
        "outputId": "39cf8c77-86d4-4625-ae55-b59dd398821a"
      },
      "execution_count": 12,
      "outputs": [
        {
          "output_type": "stream",
          "name": "stdout",
          "text": [
            "Element at [1][1]: 4\n"
          ]
        }
      ]
    },
    {
      "cell_type": "code",
      "source": [],
      "metadata": {
        "id": "49WGf01CFU9u"
      },
      "execution_count": null,
      "outputs": []
    }
  ]
}