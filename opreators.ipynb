{
 "cells": [
  {
   "cell_type": "markdown",
   "metadata": {
    "id": "Kn_UN9xol0Rz"
   },
   "source": [
    "# Opreators"
   ]
  },
  {
   "cell_type": "code",
   "execution_count": 1,
   "metadata": {
    "colab": {
     "base_uri": "https://localhost:8080/"
    },
    "id": "bV3L94pplyDS",
    "outputId": "74ce87e6-c3c0-420e-c668-b99be0944d88"
   },
   "outputs": [
    {
     "name": "stdout",
     "output_type": "stream",
     "text": [
      "Arithmetic Operators:\n",
      "Addition (a + b): 13\n",
      "Subtraction (a - b): 7\n",
      "Multiplication (a * b): 30\n",
      "Division (a / b): 3.3333333333333335\n",
      "Floor Division (a // b): 3\n",
      "Modulus (a % b): 1\n",
      "Exponentiation (a ** b): 1000\n"
     ]
    }
   ],
   "source": [
    "# 1. Arithmetic Operators\n",
    "a, b = 10, 3\n",
    "print(\"Arithmetic Operators:\")\n",
    "print(\"Addition (a + b):\", a + b)\n",
    "print(\"Subtraction (a - b):\", a - b)\n",
    "print(\"Multiplication (a * b):\", a * b)\n",
    "print(\"Division (a / b):\", a / b)\n",
    "print(\"Floor Division (a // b):\", a // b)\n",
    "print(\"Modulus (a % b):\", a % b)\n",
    "print(\"Exponentiation (a ** b):\", a ** b)"
   ]
  },
  {
   "cell_type": "code",
   "execution_count": null,
   "metadata": {
    "id": "aMQra12jsVFi"
   },
   "outputs": [],
   "source": [
    "# 2. Comparison Operators\n",
    "print(\"\\nComparison Operators:\")\n",
    "print(\"Equal (a == b):\", a == b)\n",
    "print(\"Not Equal (a != b):\", a != b)\n",
    "print(\"Greater Than (a > b):\", a > b)\n",
    "print(\"Less Than (a < b):\", a < b)\n",
    "print(\"Greater or Equal (a >= b):\", a >= b)\n",
    "print(\"Less or Equal (a <= b):\", a <= b)"
   ]
  },
  {
   "cell_type": "code",
   "execution_count": 2,
   "metadata": {
    "colab": {
     "base_uri": "https://localhost:8080/"
    },
    "id": "jDMZ9ulYs5fK",
    "outputId": "10ff4417-6c7c-4900-e533-7c9f83eb3385"
   },
   "outputs": [
    {
     "name": "stdout",
     "output_type": "stream",
     "text": [
      "\n",
      "Assignment Operators:\n",
      "x += 2: 7\n",
      "x -= 1: 6\n",
      "x *= 3: 18\n",
      "x /= 2: 9.0\n",
      "x %= 2: 1.0\n",
      "x **= 2: 25\n",
      "x //= 2: 12\n"
     ]
    }
   ],
   "source": [
    "# 3. Assignment Operators\n",
    "print(\"\\nAssignment Operators:\")\n",
    "x = 5\n",
    "x += 2\n",
    "print(\"x += 2:\", x)\n",
    "x -= 1\n",
    "print(\"x -= 1:\", x)\n",
    "x *= 3\n",
    "print(\"x *= 3:\", x)\n",
    "x /= 2\n",
    "print(\"x /= 2:\", x)\n",
    "x %= 2\n",
    "print(\"x %= 2:\", x)\n",
    "x = 5\n",
    "x **= 2\n",
    "print(\"x **= 2:\", x)\n",
    "x //= 2\n",
    "print(\"x //= 2:\", x)"
   ]
  },
  {
   "cell_type": "code",
   "execution_count": 3,
   "metadata": {
    "colab": {
     "base_uri": "https://localhost:8080/"
    },
    "id": "2IJyPd7Ls62h",
    "outputId": "c85515f7-62c4-4fde-c6cf-8c88f759f890"
   },
   "outputs": [
    {
     "name": "stdout",
     "output_type": "stream",
     "text": [
      "\n",
      "Logical Operators:\n",
      "True and False: False\n",
      "True or False: True\n",
      "not True: False\n"
     ]
    }
   ],
   "source": [
    "# 4. Logical Operators\n",
    "print(\"\\nLogical Operators:\")\n",
    "print(\"True and False:\", True and False)\n",
    "print(\"True or False:\", True or False)\n",
    "print(\"not True:\", not True)"
   ]
  },
  {
   "cell_type": "code",
   "execution_count": 4,
   "metadata": {
    "colab": {
     "base_uri": "https://localhost:8080/"
    },
    "id": "Ux9e_fdus84L",
    "outputId": "1e5b9026-003f-4069-c6ed-5a7e9131461d"
   },
   "outputs": [
    {
     "name": "stdout",
     "output_type": "stream",
     "text": [
      "\n",
      "Identity Operators:\n",
      "a is b: True\n",
      "a is c: False\n",
      "a is not c: True\n"
     ]
    }
   ],
   "source": [
    "# 5. Identity Operators\n",
    "print(\"\\nIdentity Operators:\")\n",
    "a = [1, 2, 3]\n",
    "b = a\n",
    "c = [1, 2, 3]\n",
    "print(\"a is b:\", a is b)      # True - same object\n",
    "print(\"a is c:\", a is c)      # False - different object with same content\n",
    "print(\"a is not c:\", a is not c)"
   ]
  },
  {
   "cell_type": "code",
   "execution_count": 5,
   "metadata": {
    "colab": {
     "base_uri": "https://localhost:8080/"
    },
    "id": "oP0lvBEEs_QS",
    "outputId": "661dd381-6662-410e-b3d4-0eba2174066d"
   },
   "outputs": [
    {
     "name": "stdout",
     "output_type": "stream",
     "text": [
      "\n",
      "Membership Operators:\n",
      "2 in a: True\n",
      "4 not in a: True\n"
     ]
    }
   ],
   "source": [
    "# 6. Membership Operators\n",
    "print(\"\\nMembership Operators:\")\n",
    "print(\"2 in a:\", 2 in a)\n",
    "print(\"4 not in a:\", 4 not in a)"
   ]
  },
  {
   "cell_type": "code",
   "execution_count": 6,
   "metadata": {
    "colab": {
     "base_uri": "https://localhost:8080/"
    },
    "id": "OrEfInOstBBC",
    "outputId": "24d86858-53ab-4b1b-e60e-9a7588479988"
   },
   "outputs": [
    {
     "name": "stdout",
     "output_type": "stream",
     "text": [
      "\n",
      "Bitwise Operators:\n",
      "x & y (AND): 1\n",
      "x | y (OR): 7\n",
      "x ^ y (XOR): 6\n",
      "~x (NOT): -6\n",
      "x << 1 (Left Shift): 10\n",
      "x >> 1 (Right Shift): 2\n"
     ]
    }
   ],
   "source": [
    "# 7. Bitwise Operators\n",
    "print(\"\\nBitwise Operators:\")\n",
    "x, y = 5, 3  # In binary: 5=101, 3=011\n",
    "print(\"x & y (AND):\", x & y)\n",
    "print(\"x | y (OR):\", x | y)\n",
    "print(\"x ^ y (XOR):\", x ^ y)\n",
    "print(\"~x (NOT):\", ~x)\n",
    "print(\"x << 1 (Left Shift):\", x << 1)\n",
    "print(\"x >> 1 (Right Shift):\", x >> 1)"
   ]
  }
 ],
 "metadata": {
  "colab": {
   "provenance": []
  },
  "kernelspec": {
   "display_name": "Python 3 (ipykernel)",
   "language": "python",
   "name": "python3"
  },
  "language_info": {
   "codemirror_mode": {
    "name": "ipython",
    "version": 3
   },
   "file_extension": ".py",
   "mimetype": "text/x-python",
   "name": "python",
   "nbconvert_exporter": "python",
   "pygments_lexer": "ipython3",
   "version": "3.12.5"
  }
 },
 "nbformat": 4,
 "nbformat_minor": 4
}
