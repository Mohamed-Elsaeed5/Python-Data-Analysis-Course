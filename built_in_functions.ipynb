{
  "nbformat": 4,
  "nbformat_minor": 0,
  "metadata": {
    "colab": {
      "provenance": []
    },
    "kernelspec": {
      "name": "python3",
      "display_name": "Python 3"
    },
    "language_info": {
      "name": "python"
    }
  },
  "cells": [
    {
      "cell_type": "markdown",
      "source": [
        "# Python Built-in Functions"
      ],
      "metadata": {
        "id": "8D4lAcFUCIha"
      }
    },
    {
      "cell_type": "code",
      "execution_count": 1,
      "metadata": {
        "id": "fmyesxSY9wmB",
        "colab": {
          "base_uri": "https://localhost:8080/"
        },
        "outputId": "9d56fbd0-3f04-414a-b90f-777b5867a113"
      },
      "outputs": [
        {
          "output_type": "stream",
          "name": "stdout",
          "text": [
            "Type of 10: <class 'int'>\n"
          ]
        }
      ],
      "source": [
        "# 1. type(): check the type of a variable\n",
        "print(\"Type of 10:\", type(10))"
      ]
    },
    {
      "cell_type": "code",
      "source": [
        "# 2. len(): get the length\n",
        "print(\"Length of 'hello':\", len(\"hello\"))"
      ],
      "metadata": {
        "colab": {
          "base_uri": "https://localhost:8080/"
        },
        "id": "xODA371ZCd0Z",
        "outputId": "8acaad9b-55cf-428d-b4d5-18a5be9914ec"
      },
      "execution_count": 2,
      "outputs": [
        {
          "output_type": "stream",
          "name": "stdout",
          "text": [
            "Length of 'hello': 5\n"
          ]
        }
      ]
    },
    {
      "cell_type": "code",
      "source": [
        "# 3. sum(), max(), min(): math functions for sequences\n",
        "numbers = [1, 2, 3, 4]\n",
        "print(\"Sum:\", sum(numbers))\n",
        "print(\"Max:\", max(numbers))\n",
        "print(\"Min:\", min(numbers))"
      ],
      "metadata": {
        "colab": {
          "base_uri": "https://localhost:8080/"
        },
        "id": "Y8y9GkquCdyd",
        "outputId": "ef7f8c80-c881-402c-b007-571379d5203b"
      },
      "execution_count": 3,
      "outputs": [
        {
          "output_type": "stream",
          "name": "stdout",
          "text": [
            "Sum: 10\n",
            "Max: 4\n",
            "Min: 1\n"
          ]
        }
      ]
    },
    {
      "cell_type": "code",
      "source": [
        "# 4. round(): round a float\n",
        "print(\"Round 3.14159 to 2 decimals:\", round(3.14159, 2))"
      ],
      "metadata": {
        "colab": {
          "base_uri": "https://localhost:8080/"
        },
        "id": "tdx5wE9sCdvu",
        "outputId": "5592d909-88fb-4368-8a6a-6383f77676bc"
      },
      "execution_count": 4,
      "outputs": [
        {
          "output_type": "stream",
          "name": "stdout",
          "text": [
            "Round 3.14159 to 2 decimals: 3.14\n"
          ]
        }
      ]
    },
    {
      "cell_type": "code",
      "source": [
        "# 5. abs(): absolute value\n",
        "print(\"abs(-7):\", abs(-7))"
      ],
      "metadata": {
        "colab": {
          "base_uri": "https://localhost:8080/"
        },
        "id": "K8Cd8AD3CdtI",
        "outputId": "fe5cf29d-7a80-4456-d7c2-40a6c99767d5"
      },
      "execution_count": 5,
      "outputs": [
        {
          "output_type": "stream",
          "name": "stdout",
          "text": [
            "abs(-7): 7\n"
          ]
        }
      ]
    },
    {
      "cell_type": "code",
      "source": [
        "# 6. sorted(): returns sorted list\n",
        "print(\"Sorted list:\", sorted([4, 1, 3]))"
      ],
      "metadata": {
        "colab": {
          "base_uri": "https://localhost:8080/"
        },
        "id": "jxBh4cWLCdqU",
        "outputId": "2313400f-683c-4f63-dd5a-29eeb97efe8b"
      },
      "execution_count": 6,
      "outputs": [
        {
          "output_type": "stream",
          "name": "stdout",
          "text": [
            "Sorted list: [1, 3, 4]\n"
          ]
        }
      ]
    },
    {
      "cell_type": "code",
      "source": [
        "# 7. reversed(): returns reversed iterator\n",
        "print(\"Reversed list:\", list(reversed([1, 2, 3])))"
      ],
      "metadata": {
        "colab": {
          "base_uri": "https://localhost:8080/"
        },
        "id": "Gnoc4ssNCdoB",
        "outputId": "ca150419-1fea-4936-8a88-0f914026faba"
      },
      "execution_count": 7,
      "outputs": [
        {
          "output_type": "stream",
          "name": "stdout",
          "text": [
            "Reversed list: [3, 2, 1]\n"
          ]
        }
      ]
    },
    {
      "cell_type": "code",
      "source": [
        "# 8. range(): create a sequence of numbers\n",
        "print(\"Range from 0 to 4:\", list(range(5)))"
      ],
      "metadata": {
        "colab": {
          "base_uri": "https://localhost:8080/"
        },
        "id": "-yos658ZCdlh",
        "outputId": "020b60dd-94a8-47ca-c131-207aecc924a2"
      },
      "execution_count": 8,
      "outputs": [
        {
          "output_type": "stream",
          "name": "stdout",
          "text": [
            "Range from 0 to 4: [0, 1, 2, 3, 4]\n"
          ]
        }
      ]
    },
    {
      "cell_type": "code",
      "source": [
        "# 9. input(): take user input (commented to avoid blocking)\n",
        "name = input(\"Enter your name: \")\n",
        "print(\"Hello\", name)"
      ],
      "metadata": {
        "colab": {
          "base_uri": "https://localhost:8080/"
        },
        "id": "rESyPYkECdjJ",
        "outputId": "b6ddb40a-6454-41ef-8470-6b4ec7dcbd42"
      },
      "execution_count": 17,
      "outputs": [
        {
          "output_type": "stream",
          "name": "stdout",
          "text": [
            "Enter your name: m\n",
            "Hello m\n"
          ]
        }
      ]
    },
    {
      "cell_type": "code",
      "source": [
        "# 10. int(), float(), str(): type casting\n",
        "print(\"int('5') + 1 =\", int(\"5\") + 1)\n",
        "print(\"str(123) + 'abc' =\", str(123) + \"abc\")"
      ],
      "metadata": {
        "colab": {
          "base_uri": "https://localhost:8080/"
        },
        "id": "slQjf4XQCdgh",
        "outputId": "1f213fe6-7147-4e3b-b65a-e80401aa43c2"
      },
      "execution_count": 10,
      "outputs": [
        {
          "output_type": "stream",
          "name": "stdout",
          "text": [
            "int('5') + 1 = 6\n",
            "str(123) + 'abc' = 123abc\n"
          ]
        }
      ]
    },
    {
      "cell_type": "code",
      "source": [
        "# 11. isinstance(): check variable type\n",
        "print(\"Is 5 an int?\", isinstance(5, int))"
      ],
      "metadata": {
        "colab": {
          "base_uri": "https://localhost:8080/"
        },
        "id": "a3tuOjVhCddp",
        "outputId": "58de0590-1a8f-450d-bade-0f3029063199"
      },
      "execution_count": 18,
      "outputs": [
        {
          "output_type": "stream",
          "name": "stdout",
          "text": [
            "Is 5 an int? True\n"
          ]
        }
      ]
    },
    {
      "cell_type": "code",
      "source": [
        "# 12. eval(): evaluate string as Python expression\n",
        "expr = \"2 + 3 * 5\"\n",
        "print(\"eval('2 + 3 * 5') =\", eval(expr))"
      ],
      "metadata": {
        "colab": {
          "base_uri": "https://localhost:8080/"
        },
        "id": "RZ1BZmVRCrwY",
        "outputId": "4f039fe6-c5aa-480f-ebdb-087dab61bf0c"
      },
      "execution_count": 12,
      "outputs": [
        {
          "output_type": "stream",
          "name": "stdout",
          "text": [
            "eval('2 + 3 * 5') = 17\n"
          ]
        }
      ]
    },
    {
      "cell_type": "code",
      "source": [
        "# 13. help(): get help about a function (commented)\n",
        "help(len)"
      ],
      "metadata": {
        "colab": {
          "base_uri": "https://localhost:8080/"
        },
        "id": "UbytJryPCsf5",
        "outputId": "661cbe59-ac84-4d82-e765-70c8026d0e0f"
      },
      "execution_count": 19,
      "outputs": [
        {
          "output_type": "stream",
          "name": "stdout",
          "text": [
            "Help on built-in function len in module builtins:\n",
            "\n",
            "len(obj, /)\n",
            "    Return the number of items in a container.\n",
            "\n"
          ]
        }
      ]
    },
    {
      "cell_type": "code",
      "source": [
        "# 14. all(), any(): check conditions in iterable\n",
        "print(\"all True:\", all([True, True, 1]))\n",
        "print(\"any True:\", any([False, 0, \"hi\"]))"
      ],
      "metadata": {
        "colab": {
          "base_uri": "https://localhost:8080/"
        },
        "id": "pd2fRNj2CtNh",
        "outputId": "5b889058-56a1-4d42-e3cd-2633cec1f4f8"
      },
      "execution_count": 20,
      "outputs": [
        {
          "output_type": "stream",
          "name": "stdout",
          "text": [
            "all True: True\n",
            "any True: True\n"
          ]
        }
      ]
    },
    {
      "cell_type": "code",
      "source": [
        "# 15. zip(): combine multiple lists\n",
        "a = [1, 2]\n",
        "b = [\"x\", \"y\"]\n",
        "print(\"Zipped:\", list(zip(a, b)))"
      ],
      "metadata": {
        "colab": {
          "base_uri": "https://localhost:8080/"
        },
        "id": "RqEZwoX0Cty5",
        "outputId": "9dc2a066-6e1a-4300-f1b7-f69461324bf2"
      },
      "execution_count": 15,
      "outputs": [
        {
          "output_type": "stream",
          "name": "stdout",
          "text": [
            "Zipped: [(1, 'x'), (2, 'y')]\n"
          ]
        }
      ]
    },
    {
      "cell_type": "code",
      "source": [
        "# 16. enumerate(): get index and value while looping\n",
        "for i, val in enumerate([\"a\", \"b\", \"c\"]):\n",
        "    print(f\"Index {i} -> {val}\")"
      ],
      "metadata": {
        "colab": {
          "base_uri": "https://localhost:8080/"
        },
        "id": "tZRADGz0Curh",
        "outputId": "f24ffaf2-e6ac-4329-c1a5-b2f2fc903ffa"
      },
      "execution_count": 16,
      "outputs": [
        {
          "output_type": "stream",
          "name": "stdout",
          "text": [
            "Index 0 -> a\n",
            "Index 1 -> b\n",
            "Index 2 -> c\n"
          ]
        }
      ]
    },
    {
      "cell_type": "code",
      "source": [],
      "metadata": {
        "id": "dyqTgMGMCw2M"
      },
      "execution_count": null,
      "outputs": []
    }
  ]
}